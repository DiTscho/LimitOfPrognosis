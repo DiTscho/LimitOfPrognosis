{
 "cells": [
  {
   "cell_type": "code",
   "execution_count": 1,
   "metadata": {},
   "outputs": [
    {
     "name": "stderr",
     "output_type": "stream",
     "text": [
      "Warning message:\n",
      "“package ‘survival’ was built under R version 4.1.1”\n"
     ]
    }
   ],
   "source": [
    "#export \n",
    "suppressMessages(source(\"exp/nb_05.R\"))"
   ]
  },
  {
   "cell_type": "code",
   "execution_count": 5,
   "metadata": {},
   "outputs": [],
   "source": [
    "x = readRDS(\"../data/dfs_feature_selections.rds\")"
   ]
  },
  {
   "cell_type": "code",
   "execution_count": 7,
   "metadata": {},
   "outputs": [
    {
     "data": {
      "text/html": [
       "8"
      ],
      "text/latex": [
       "8"
      ],
      "text/markdown": [
       "8"
      ],
      "text/plain": [
       "[1] 8"
      ]
     },
     "metadata": {},
     "output_type": "display_data"
    }
   ],
   "source": [
    "length(x)"
   ]
  },
  {
   "cell_type": "code",
   "execution_count": 9,
   "metadata": {},
   "outputs": [
    {
     "data": {
      "text/html": [
       "7"
      ],
      "text/latex": [
       "7"
      ],
      "text/markdown": [
       "7"
      ],
      "text/plain": [
       "[1] 7"
      ]
     },
     "metadata": {},
     "output_type": "display_data"
    }
   ],
   "source": [
    "length(x[[1]])"
   ]
  },
  {
   "cell_type": "code",
   "execution_count": 11,
   "metadata": {},
   "outputs": [
    {
     "data": {
      "text/html": [
       "<style>\n",
       ".list-inline {list-style: none; margin:0; padding: 0}\n",
       ".list-inline>li {display: inline-block}\n",
       ".list-inline>li:not(:last-child)::after {content: \"\\00b7\"; padding: 0 .5ex}\n",
       "</style>\n",
       "<ol class=list-inline><li>683</li><li>386</li></ol>\n"
      ],
      "text/latex": [
       "\\begin{enumerate*}\n",
       "\\item 683\n",
       "\\item 386\n",
       "\\end{enumerate*}\n"
      ],
      "text/markdown": [
       "1. 683\n",
       "2. 386\n",
       "\n",
       "\n"
      ],
      "text/plain": [
       "[1] 683 386"
      ]
     },
     "metadata": {},
     "output_type": "display_data"
    }
   ],
   "source": [
    "dim(x[[1]][[1]])"
   ]
  },
  {
   "cell_type": "code",
   "execution_count": 12,
   "metadata": {},
   "outputs": [
    {
     "data": {
      "text/html": [
       "<table class=\"dataframe\">\n",
       "<caption>A data.frame: 6 × 386</caption>\n",
       "<thead>\n",
       "\t<tr><th></th><th scope=col>survival_time</th><th scope=col>event</th><th scope=col>KIF20A</th><th scope=col>CKAP2L</th><th scope=col>UBE2C</th><th scope=col>UBE2S</th><th scope=col>TROAP</th><th scope=col>CDCA5</th><th scope=col>HJURP</th><th scope=col>NCAPG</th><th scope=col>⋯</th><th scope=col>LRG1</th><th scope=col>NOP53</th><th scope=col>DSCC1</th><th scope=col>HID1</th><th scope=col>DNA2</th><th scope=col>ADAM8</th><th scope=col>TLCD5</th><th scope=col>SWSAP1</th><th scope=col>CHRNA1</th><th scope=col>MAB21L4</th></tr>\n",
       "\t<tr><th></th><th scope=col>&lt;dbl&gt;</th><th scope=col>&lt;dbl&gt;</th><th scope=col>&lt;dbl&gt;</th><th scope=col>&lt;dbl&gt;</th><th scope=col>&lt;dbl&gt;</th><th scope=col>&lt;dbl&gt;</th><th scope=col>&lt;dbl&gt;</th><th scope=col>&lt;dbl&gt;</th><th scope=col>&lt;dbl&gt;</th><th scope=col>&lt;dbl&gt;</th><th scope=col>⋯</th><th scope=col>&lt;dbl&gt;</th><th scope=col>&lt;dbl&gt;</th><th scope=col>&lt;dbl&gt;</th><th scope=col>&lt;dbl&gt;</th><th scope=col>&lt;dbl&gt;</th><th scope=col>&lt;dbl&gt;</th><th scope=col>&lt;dbl&gt;</th><th scope=col>&lt;dbl&gt;</th><th scope=col>&lt;dbl&gt;</th><th scope=col>&lt;dbl&gt;</th></tr>\n",
       "</thead>\n",
       "<tbody>\n",
       "\t<tr><th scope=row>274</th><td>10.000000</td><td>0</td><td>7.586703</td><td>6.598207</td><td>7.214650</td><td>7.461820</td><td>7.170632</td><td>8.622614</td><td>6.648412</td><td>6.987922</td><td>⋯</td><td>6.604682</td><td>12.06277</td><td>6.100974</td><td>6.811746</td><td>6.066757</td><td>6.058160</td><td>7.800751</td><td>6.308487</td><td>5.427854</td><td>5.226826</td></tr>\n",
       "\t<tr><th scope=row>374</th><td> 8.436111</td><td>0</td><td>6.536022</td><td>6.196977</td><td>6.557856</td><td>7.191172</td><td>5.878402</td><td>7.655903</td><td>5.916254</td><td>6.127865</td><td>⋯</td><td>8.177599</td><td>12.67856</td><td>5.687218</td><td>7.575995</td><td>6.387422</td><td>6.147256</td><td>8.601059</td><td>6.040759</td><td>5.491166</td><td>5.419052</td></tr>\n",
       "\t<tr><th scope=row>486</th><td> 8.547222</td><td>0</td><td>6.186412</td><td>5.593849</td><td>5.962057</td><td>7.265111</td><td>5.908540</td><td>6.643812</td><td>5.816124</td><td>5.698553</td><td>⋯</td><td>6.385725</td><td>12.47468</td><td>5.796973</td><td>7.083551</td><td>6.005232</td><td>6.162950</td><td>7.111200</td><td>6.085659</td><td>5.225421</td><td>5.377250</td></tr>\n",
       "\t<tr><th scope=row>455</th><td> 9.550000</td><td>0</td><td>5.682571</td><td>5.588244</td><td>6.165122</td><td>6.919450</td><td>5.607210</td><td>6.583754</td><td>5.369639</td><td>5.936937</td><td>⋯</td><td>8.014898</td><td>12.51692</td><td>5.453808</td><td>7.110006</td><td>6.016824</td><td>6.275540</td><td>7.575132</td><td>6.426112</td><td>5.470635</td><td>5.276531</td></tr>\n",
       "\t<tr><th scope=row>166</th><td> 7.177778</td><td>0</td><td>6.564582</td><td>6.397465</td><td>6.816092</td><td>7.272856</td><td>6.589674</td><td>8.508120</td><td>6.104053</td><td>6.829955</td><td>⋯</td><td>8.155544</td><td>12.41279</td><td>6.207027</td><td>7.728264</td><td>5.969096</td><td>6.374081</td><td>7.183055</td><td>6.277270</td><td>5.405002</td><td>5.388020</td></tr>\n",
       "\t<tr><th scope=row>121</th><td>10.000000</td><td>0</td><td>6.346636</td><td>5.896159</td><td>6.623245</td><td>7.168413</td><td>6.072781</td><td>7.460242</td><td>6.283222</td><td>6.150908</td><td>⋯</td><td>8.033385</td><td>12.14167</td><td>5.760135</td><td>7.786755</td><td>6.013535</td><td>6.463620</td><td>7.415402</td><td>6.976712</td><td>5.584150</td><td>5.379362</td></tr>\n",
       "</tbody>\n",
       "</table>\n"
      ],
      "text/latex": [
       "A data.frame: 6 × 386\n",
       "\\begin{tabular}{r|lllllllllllllllllllll}\n",
       "  & survival\\_time & event & KIF20A & CKAP2L & UBE2C & UBE2S & TROAP & CDCA5 & HJURP & NCAPG & ⋯ & LRG1 & NOP53 & DSCC1 & HID1 & DNA2 & ADAM8 & TLCD5 & SWSAP1 & CHRNA1 & MAB21L4\\\\\n",
       "  & <dbl> & <dbl> & <dbl> & <dbl> & <dbl> & <dbl> & <dbl> & <dbl> & <dbl> & <dbl> & ⋯ & <dbl> & <dbl> & <dbl> & <dbl> & <dbl> & <dbl> & <dbl> & <dbl> & <dbl> & <dbl>\\\\\n",
       "\\hline\n",
       "\t274 & 10.000000 & 0 & 7.586703 & 6.598207 & 7.214650 & 7.461820 & 7.170632 & 8.622614 & 6.648412 & 6.987922 & ⋯ & 6.604682 & 12.06277 & 6.100974 & 6.811746 & 6.066757 & 6.058160 & 7.800751 & 6.308487 & 5.427854 & 5.226826\\\\\n",
       "\t374 &  8.436111 & 0 & 6.536022 & 6.196977 & 6.557856 & 7.191172 & 5.878402 & 7.655903 & 5.916254 & 6.127865 & ⋯ & 8.177599 & 12.67856 & 5.687218 & 7.575995 & 6.387422 & 6.147256 & 8.601059 & 6.040759 & 5.491166 & 5.419052\\\\\n",
       "\t486 &  8.547222 & 0 & 6.186412 & 5.593849 & 5.962057 & 7.265111 & 5.908540 & 6.643812 & 5.816124 & 5.698553 & ⋯ & 6.385725 & 12.47468 & 5.796973 & 7.083551 & 6.005232 & 6.162950 & 7.111200 & 6.085659 & 5.225421 & 5.377250\\\\\n",
       "\t455 &  9.550000 & 0 & 5.682571 & 5.588244 & 6.165122 & 6.919450 & 5.607210 & 6.583754 & 5.369639 & 5.936937 & ⋯ & 8.014898 & 12.51692 & 5.453808 & 7.110006 & 6.016824 & 6.275540 & 7.575132 & 6.426112 & 5.470635 & 5.276531\\\\\n",
       "\t166 &  7.177778 & 0 & 6.564582 & 6.397465 & 6.816092 & 7.272856 & 6.589674 & 8.508120 & 6.104053 & 6.829955 & ⋯ & 8.155544 & 12.41279 & 6.207027 & 7.728264 & 5.969096 & 6.374081 & 7.183055 & 6.277270 & 5.405002 & 5.388020\\\\\n",
       "\t121 & 10.000000 & 0 & 6.346636 & 5.896159 & 6.623245 & 7.168413 & 6.072781 & 7.460242 & 6.283222 & 6.150908 & ⋯ & 8.033385 & 12.14167 & 5.760135 & 7.786755 & 6.013535 & 6.463620 & 7.415402 & 6.976712 & 5.584150 & 5.379362\\\\\n",
       "\\end{tabular}\n"
      ],
      "text/markdown": [
       "\n",
       "A data.frame: 6 × 386\n",
       "\n",
       "| <!--/--> | survival_time &lt;dbl&gt; | event &lt;dbl&gt; | KIF20A &lt;dbl&gt; | CKAP2L &lt;dbl&gt; | UBE2C &lt;dbl&gt; | UBE2S &lt;dbl&gt; | TROAP &lt;dbl&gt; | CDCA5 &lt;dbl&gt; | HJURP &lt;dbl&gt; | NCAPG &lt;dbl&gt; | ⋯ ⋯ | LRG1 &lt;dbl&gt; | NOP53 &lt;dbl&gt; | DSCC1 &lt;dbl&gt; | HID1 &lt;dbl&gt; | DNA2 &lt;dbl&gt; | ADAM8 &lt;dbl&gt; | TLCD5 &lt;dbl&gt; | SWSAP1 &lt;dbl&gt; | CHRNA1 &lt;dbl&gt; | MAB21L4 &lt;dbl&gt; |\n",
       "|---|---|---|---|---|---|---|---|---|---|---|---|---|---|---|---|---|---|---|---|---|---|\n",
       "| 274 | 10.000000 | 0 | 7.586703 | 6.598207 | 7.214650 | 7.461820 | 7.170632 | 8.622614 | 6.648412 | 6.987922 | ⋯ | 6.604682 | 12.06277 | 6.100974 | 6.811746 | 6.066757 | 6.058160 | 7.800751 | 6.308487 | 5.427854 | 5.226826 |\n",
       "| 374 |  8.436111 | 0 | 6.536022 | 6.196977 | 6.557856 | 7.191172 | 5.878402 | 7.655903 | 5.916254 | 6.127865 | ⋯ | 8.177599 | 12.67856 | 5.687218 | 7.575995 | 6.387422 | 6.147256 | 8.601059 | 6.040759 | 5.491166 | 5.419052 |\n",
       "| 486 |  8.547222 | 0 | 6.186412 | 5.593849 | 5.962057 | 7.265111 | 5.908540 | 6.643812 | 5.816124 | 5.698553 | ⋯ | 6.385725 | 12.47468 | 5.796973 | 7.083551 | 6.005232 | 6.162950 | 7.111200 | 6.085659 | 5.225421 | 5.377250 |\n",
       "| 455 |  9.550000 | 0 | 5.682571 | 5.588244 | 6.165122 | 6.919450 | 5.607210 | 6.583754 | 5.369639 | 5.936937 | ⋯ | 8.014898 | 12.51692 | 5.453808 | 7.110006 | 6.016824 | 6.275540 | 7.575132 | 6.426112 | 5.470635 | 5.276531 |\n",
       "| 166 |  7.177778 | 0 | 6.564582 | 6.397465 | 6.816092 | 7.272856 | 6.589674 | 8.508120 | 6.104053 | 6.829955 | ⋯ | 8.155544 | 12.41279 | 6.207027 | 7.728264 | 5.969096 | 6.374081 | 7.183055 | 6.277270 | 5.405002 | 5.388020 |\n",
       "| 121 | 10.000000 | 0 | 6.346636 | 5.896159 | 6.623245 | 7.168413 | 6.072781 | 7.460242 | 6.283222 | 6.150908 | ⋯ | 8.033385 | 12.14167 | 5.760135 | 7.786755 | 6.013535 | 6.463620 | 7.415402 | 6.976712 | 5.584150 | 5.379362 |\n",
       "\n"
      ],
      "text/plain": [
       "    survival_time event KIF20A   CKAP2L   UBE2C    UBE2S    TROAP    CDCA5   \n",
       "274 10.000000     0     7.586703 6.598207 7.214650 7.461820 7.170632 8.622614\n",
       "374  8.436111     0     6.536022 6.196977 6.557856 7.191172 5.878402 7.655903\n",
       "486  8.547222     0     6.186412 5.593849 5.962057 7.265111 5.908540 6.643812\n",
       "455  9.550000     0     5.682571 5.588244 6.165122 6.919450 5.607210 6.583754\n",
       "166  7.177778     0     6.564582 6.397465 6.816092 7.272856 6.589674 8.508120\n",
       "121 10.000000     0     6.346636 5.896159 6.623245 7.168413 6.072781 7.460242\n",
       "    HJURP    NCAPG    ⋯ LRG1     NOP53    DSCC1    HID1     DNA2     ADAM8   \n",
       "274 6.648412 6.987922 ⋯ 6.604682 12.06277 6.100974 6.811746 6.066757 6.058160\n",
       "374 5.916254 6.127865 ⋯ 8.177599 12.67856 5.687218 7.575995 6.387422 6.147256\n",
       "486 5.816124 5.698553 ⋯ 6.385725 12.47468 5.796973 7.083551 6.005232 6.162950\n",
       "455 5.369639 5.936937 ⋯ 8.014898 12.51692 5.453808 7.110006 6.016824 6.275540\n",
       "166 6.104053 6.829955 ⋯ 8.155544 12.41279 6.207027 7.728264 5.969096 6.374081\n",
       "121 6.283222 6.150908 ⋯ 8.033385 12.14167 5.760135 7.786755 6.013535 6.463620\n",
       "    TLCD5    SWSAP1   CHRNA1   MAB21L4 \n",
       "274 7.800751 6.308487 5.427854 5.226826\n",
       "374 8.601059 6.040759 5.491166 5.419052\n",
       "486 7.111200 6.085659 5.225421 5.377250\n",
       "455 7.575132 6.426112 5.470635 5.276531\n",
       "166 7.183055 6.277270 5.405002 5.388020\n",
       "121 7.415402 6.976712 5.584150 5.379362"
      ]
     },
     "metadata": {},
     "output_type": "display_data"
    }
   ],
   "source": [
    "head(x[[1]][[1]])"
   ]
  },
  {
   "cell_type": "code",
   "execution_count": null,
   "metadata": {},
   "outputs": [],
   "source": []
  }
 ],
 "metadata": {
  "kernelspec": {
   "display_name": "R",
   "language": "R",
   "name": "ir"
  },
  "language_info": {
   "codemirror_mode": "r",
   "file_extension": ".r",
   "mimetype": "text/x-r-source",
   "name": "R",
   "pygments_lexer": "r",
   "version": "4.0.3"
  }
 },
 "nbformat": 4,
 "nbformat_minor": 4
}
