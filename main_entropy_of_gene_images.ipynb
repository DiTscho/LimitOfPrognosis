{
 "cells": [
  {
   "cell_type": "code",
   "execution_count": 1,
   "metadata": {},
   "outputs": [],
   "source": [
    "import numpy as np\n",
    "import pandas as pd\n",
    "import matplotlib.pyplot as plt"
   ]
  },
  {
   "cell_type": "markdown",
   "metadata": {},
   "source": [
    "# Data"
   ]
  },
  {
   "cell_type": "code",
   "execution_count": 2,
   "metadata": {},
   "outputs": [],
   "source": [
    "import rpy2.robjects as robjects\n",
    "from rpy2.robjects import pandas2ri\n",
    "pandas2ri.activate()"
   ]
  },
  {
   "cell_type": "code",
   "execution_count": 3,
   "metadata": {},
   "outputs": [],
   "source": [
    "readRDS = robjects.r['readRDS']\n",
    "dfs = readRDS('../data/dfs_filtered.rds')\n",
    "dfs = pandas2ri.ri2py_vector(dfs)"
   ]
  },
  {
   "cell_type": "code",
   "execution_count": 4,
   "metadata": {},
   "outputs": [],
   "source": [
    "df = dfs[0]"
   ]
  },
  {
   "cell_type": "code",
   "execution_count": 5,
   "metadata": {},
   "outputs": [
    {
     "data": {
      "text/html": [
       "<div>\n",
       "<style scoped>\n",
       "    .dataframe tbody tr th:only-of-type {\n",
       "        vertical-align: middle;\n",
       "    }\n",
       "\n",
       "    .dataframe tbody tr th {\n",
       "        vertical-align: top;\n",
       "    }\n",
       "\n",
       "    .dataframe thead th {\n",
       "        text-align: right;\n",
       "    }\n",
       "</style>\n",
       "<table border=\"1\" class=\"dataframe\">\n",
       "  <thead>\n",
       "    <tr style=\"text-align: right;\">\n",
       "      <th></th>\n",
       "      <th>node_status</th>\n",
       "      <th>grade</th>\n",
       "      <th>tumor_size</th>\n",
       "      <th>survival_time</th>\n",
       "      <th>event</th>\n",
       "      <th>age</th>\n",
       "      <th>chemo</th>\n",
       "      <th>hormonal</th>\n",
       "      <th>radiation</th>\n",
       "      <th>stage</th>\n",
       "      <th>...</th>\n",
       "      <th>PAPSS2</th>\n",
       "      <th>CEP43</th>\n",
       "      <th>PCDHGA6</th>\n",
       "      <th>TAAR2</th>\n",
       "      <th>TMEM107</th>\n",
       "      <th>TM4SF19</th>\n",
       "      <th>STIL</th>\n",
       "      <th>MCM10</th>\n",
       "      <th>SEPTIN1</th>\n",
       "      <th>THOC3</th>\n",
       "    </tr>\n",
       "  </thead>\n",
       "  <tbody>\n",
       "    <tr>\n",
       "      <th>274</th>\n",
       "      <td>1</td>\n",
       "      <td>3</td>\n",
       "      <td>1.5</td>\n",
       "      <td>10.000000</td>\n",
       "      <td>0.0</td>\n",
       "      <td>66.83</td>\n",
       "      <td>0</td>\n",
       "      <td>1</td>\n",
       "      <td>1</td>\n",
       "      <td>3</td>\n",
       "      <td>...</td>\n",
       "      <td>8.189176</td>\n",
       "      <td>6.508291</td>\n",
       "      <td>5.277828</td>\n",
       "      <td>5.378119</td>\n",
       "      <td>5.611919</td>\n",
       "      <td>5.403250</td>\n",
       "      <td>6.785248</td>\n",
       "      <td>6.068219</td>\n",
       "      <td>5.515154</td>\n",
       "      <td>7.492707</td>\n",
       "    </tr>\n",
       "    <tr>\n",
       "      <th>374</th>\n",
       "      <td>0</td>\n",
       "      <td>2</td>\n",
       "      <td>2.3</td>\n",
       "      <td>8.436111</td>\n",
       "      <td>0.0</td>\n",
       "      <td>60.77</td>\n",
       "      <td>0</td>\n",
       "      <td>1</td>\n",
       "      <td>1</td>\n",
       "      <td>2</td>\n",
       "      <td>...</td>\n",
       "      <td>9.414757</td>\n",
       "      <td>6.576653</td>\n",
       "      <td>5.382906</td>\n",
       "      <td>5.284577</td>\n",
       "      <td>5.473033</td>\n",
       "      <td>5.159056</td>\n",
       "      <td>6.469590</td>\n",
       "      <td>5.456739</td>\n",
       "      <td>5.430287</td>\n",
       "      <td>8.005263</td>\n",
       "    </tr>\n",
       "    <tr>\n",
       "      <th>486</th>\n",
       "      <td>1</td>\n",
       "      <td>2</td>\n",
       "      <td>1.4</td>\n",
       "      <td>8.547222</td>\n",
       "      <td>0.0</td>\n",
       "      <td>56.34</td>\n",
       "      <td>0</td>\n",
       "      <td>1</td>\n",
       "      <td>1</td>\n",
       "      <td>2</td>\n",
       "      <td>...</td>\n",
       "      <td>8.760117</td>\n",
       "      <td>6.206183</td>\n",
       "      <td>5.435107</td>\n",
       "      <td>5.356615</td>\n",
       "      <td>6.486817</td>\n",
       "      <td>5.222540</td>\n",
       "      <td>6.199694</td>\n",
       "      <td>5.303843</td>\n",
       "      <td>5.736608</td>\n",
       "      <td>7.545293</td>\n",
       "    </tr>\n",
       "    <tr>\n",
       "      <th>455</th>\n",
       "      <td>0</td>\n",
       "      <td>2</td>\n",
       "      <td>1.8</td>\n",
       "      <td>9.550000</td>\n",
       "      <td>0.0</td>\n",
       "      <td>58.08</td>\n",
       "      <td>0</td>\n",
       "      <td>1</td>\n",
       "      <td>0</td>\n",
       "      <td>1</td>\n",
       "      <td>...</td>\n",
       "      <td>9.309239</td>\n",
       "      <td>6.691422</td>\n",
       "      <td>5.390576</td>\n",
       "      <td>5.275552</td>\n",
       "      <td>6.654679</td>\n",
       "      <td>5.216872</td>\n",
       "      <td>6.378397</td>\n",
       "      <td>5.732758</td>\n",
       "      <td>5.496054</td>\n",
       "      <td>7.195014</td>\n",
       "    </tr>\n",
       "    <tr>\n",
       "      <th>166</th>\n",
       "      <td>0</td>\n",
       "      <td>3</td>\n",
       "      <td>1.1</td>\n",
       "      <td>7.177778</td>\n",
       "      <td>0.0</td>\n",
       "      <td>62.70</td>\n",
       "      <td>0</td>\n",
       "      <td>1</td>\n",
       "      <td>1</td>\n",
       "      <td>1</td>\n",
       "      <td>...</td>\n",
       "      <td>6.854274</td>\n",
       "      <td>6.905754</td>\n",
       "      <td>5.383921</td>\n",
       "      <td>5.286581</td>\n",
       "      <td>5.823286</td>\n",
       "      <td>5.547659</td>\n",
       "      <td>7.076835</td>\n",
       "      <td>6.132341</td>\n",
       "      <td>5.275281</td>\n",
       "      <td>7.732057</td>\n",
       "    </tr>\n",
       "  </tbody>\n",
       "</table>\n",
       "<p>5 rows × 19274 columns</p>\n",
       "</div>"
      ],
      "text/plain": [
       "    node_status grade  tumor_size  survival_time  event    age chemo hormonal  \\\n",
       "274           1     3         1.5      10.000000    0.0  66.83     0        1   \n",
       "374           0     2         2.3       8.436111    0.0  60.77     0        1   \n",
       "486           1     2         1.4       8.547222    0.0  56.34     0        1   \n",
       "455           0     2         1.8       9.550000    0.0  58.08     0        1   \n",
       "166           0     3         1.1       7.177778    0.0  62.70     0        1   \n",
       "\n",
       "    radiation stage  ...    PAPSS2     CEP43   PCDHGA6     TAAR2   TMEM107  \\\n",
       "274         1     3  ...  8.189176  6.508291  5.277828  5.378119  5.611919   \n",
       "374         1     2  ...  9.414757  6.576653  5.382906  5.284577  5.473033   \n",
       "486         1     2  ...  8.760117  6.206183  5.435107  5.356615  6.486817   \n",
       "455         0     1  ...  9.309239  6.691422  5.390576  5.275552  6.654679   \n",
       "166         1     1  ...  6.854274  6.905754  5.383921  5.286581  5.823286   \n",
       "\n",
       "      TM4SF19      STIL     MCM10   SEPTIN1     THOC3  \n",
       "274  5.403250  6.785248  6.068219  5.515154  7.492707  \n",
       "374  5.159056  6.469590  5.456739  5.430287  8.005263  \n",
       "486  5.222540  6.199694  5.303843  5.736608  7.545293  \n",
       "455  5.216872  6.378397  5.732758  5.496054  7.195014  \n",
       "166  5.547659  7.076835  6.132341  5.275281  7.732057  \n",
       "\n",
       "[5 rows x 19274 columns]"
      ]
     },
     "execution_count": 5,
     "metadata": {},
     "output_type": "execute_result"
    }
   ],
   "source": [
    "df.head()"
   ]
  },
  {
   "cell_type": "markdown",
   "metadata": {},
   "source": [
    "## Separate into clinical and expression dataframes"
   ]
  },
  {
   "cell_type": "code",
   "execution_count": 6,
   "metadata": {},
   "outputs": [],
   "source": [
    "first_gene = \"EEF1A1\"\n",
    "k = df.columns.get_loc(first_gene)\n",
    "C = df.iloc[:,:k]\n",
    "E = df.iloc[:,k:]"
   ]
  },
  {
   "cell_type": "markdown",
   "metadata": {},
   "source": [
    "## Normalize and reshape expressions"
   ]
  },
  {
   "cell_type": "code",
   "execution_count": 76,
   "metadata": {},
   "outputs": [],
   "source": [
    "from math import log, e"
   ]
  },
  {
   "cell_type": "code",
   "execution_count": 686,
   "metadata": {},
   "outputs": [],
   "source": [
    "N = int(np.sqrt(E.shape[1]))"
   ]
  },
  {
   "cell_type": "code",
   "execution_count": 417,
   "metadata": {},
   "outputs": [],
   "source": [
    "def spin(v): \n",
    "    s = lambda x: 1 if x==1 else -1\n",
    "    return list(map(s, v))"
   ]
  },
  {
   "cell_type": "code",
   "execution_count": null,
   "metadata": {},
   "outputs": [],
   "source": []
  },
  {
   "cell_type": "code",
   "execution_count": 1093,
   "metadata": {},
   "outputs": [],
   "source": [
    "# def scale(l, factor=255): return np.int64(factor*(l -np.min(l))/(np.max(l)-np.min(l)))\n",
    "def scale(col): return spin(np.int64(col>(col.median())))"
   ]
  },
  {
   "cell_type": "code",
   "execution_count": null,
   "metadata": {},
   "outputs": [],
   "source": [
    "\n",
    "# Create correlation matrix\n",
    "corr_matrix = E.corr().abs()\n",
    "\n",
    "# Select upper triangle of correlation matrix\n",
    "upper = corr_matrix.where(np.triu(np.ones(corr_matrix.shape), k=1).astype(np.bool))\n",
    "\n",
    "# Find features with correlation greater than 0.95\n",
    "to_drop = [column for column in upper.columns if any(upper[column] > 0.95)]\n",
    "\n",
    "# Drop features \n",
    "E.drop(to_drop, axis=1, inplace=True)"
   ]
  },
  {
   "cell_type": "code",
   "execution_count": 1094,
   "metadata": {},
   "outputs": [],
   "source": [
    "E = E.iloc[:,:(N*N)]\n",
    "E_scaled = E.apply(scale, axis=0, result_type=\"expand\")"
   ]
  },
  {
   "cell_type": "code",
   "execution_count": 1095,
   "metadata": {},
   "outputs": [],
   "source": [
    "E_scaled = E_scaled.replace(-1,0)"
   ]
  },
  {
   "cell_type": "code",
   "execution_count": 1096,
   "metadata": {},
   "outputs": [],
   "source": [
    "E_scaled_np = E_scaled.values"
   ]
  },
  {
   "cell_type": "code",
   "execution_count": 1097,
   "metadata": {},
   "outputs": [
    {
     "data": {
      "image/png": "[encoded data removed]",
      "text/plain": [
       "<Figure size 720x720 with 1 Axes>"
      ]
     },
     "metadata": {
      "needs_background": "light"
     },
     "output_type": "display_data"
    }
   ],
   "source": [
    "img = E_scaled_np[0,:].reshape((N,N))\n",
    "plt.figure(figsize=(10,10));\n",
    "plt.imshow(img, cmap=\"hot\");\n",
    "##plt.colorbar();"
   ]
  },
  {
   "cell_type": "code",
   "execution_count": 667,
   "metadata": {},
   "outputs": [],
   "source": [
    "from scipy.ndimage import measurements"
   ]
  },
  {
   "cell_type": "code",
   "execution_count": 669,
   "metadata": {},
   "outputs": [],
   "source": [
    "from pylab import *"
   ]
  },
  {
   "cell_type": "code",
   "execution_count": 1071,
   "metadata": {},
   "outputs": [],
   "source": [
    "def entropy(data, base=None):\n",
    "    vc = pd.Series(data).value_counts(normalize=True, sort=False)\n",
    "    base = e if base is None else base\n",
    "    return -(vc * np.log(vc)/np.log(base)).sum()"
   ]
  },
  {
   "cell_type": "code",
   "execution_count": 1072,
   "metadata": {},
   "outputs": [],
   "source": [
    "def calcEnergy(config):\n",
    "    '''\n",
    "    Energy of a given configuration\n",
    "    '''\n",
    "    energy = 0 \n",
    "    \n",
    "    for i in range(len(config)):\n",
    "        for j in range(len(config)):\n",
    "            S = config[i,j]\n",
    "            nb = config[(i+1)%N, j] + config[i,(j+1)%N] + config[(i-1)%N, j] + config[i,(j-1)%N]\n",
    "            energy += -nb*S\n",
    "    return energy/(N**2)  # to compensate for over-counting\n",
    "\n",
    "def calcMag(config):\n",
    "    '''\n",
    "    Magnetization of a given configuration\n",
    "    '''\n",
    "    mag = np.sum(config)\n",
    "    return mag/(N**2)\n"
   ]
  },
  {
   "cell_type": "code",
   "execution_count": 1073,
   "metadata": {},
   "outputs": [],
   "source": [
    "def percolation(image):\n",
    "    lw, num = measurements.label(image)\n",
    "    area = measurements.sum(image, lw, index=arange(lw.max() + 1))\n",
    "    m1 = median(np.unique(area))\n",
    "    m2 = len(np.unique(area))\n",
    "    return m1, m2"
   ]
  },
  {
   "cell_type": "code",
   "execution_count": 1074,
   "metadata": {},
   "outputs": [],
   "source": [
    "Es = []\n",
    "Ms = []\n",
    "nrow = E.shape[0]\n",
    "for i in range(nrow):\n",
    "    img = E_scaled_np[i,:].reshape((N,N))\n",
    "#     Es.append(calcEnergy(img))\n",
    "#     Ms.append(calcMag(img))\n",
    "    p1, p2 = percolation(img)\n",
    "    Es.append(p1)\n",
    "    Ms.append(p2)"
   ]
  },
  {
   "cell_type": "code",
   "execution_count": 1075,
   "metadata": {},
   "outputs": [],
   "source": [
    "lw, num = measurements.label(img)\n",
    "#imshow(lw, origin='lower')\n",
    "#colorbar()\n",
    "#title(\"Labeled clusters\")\n",
    "#show()"
   ]
  },
  {
   "cell_type": "code",
   "execution_count": 1076,
   "metadata": {},
   "outputs": [
    {
     "data": {
      "image/png": "[encoded data removed]",
      "text/plain": [
       "<Figure size 432x288 with 2 Axes>"
      ]
     },
     "metadata": {
      "needs_background": "light"
     },
     "output_type": "display_data"
    }
   ],
   "source": [
    "b = arange(lw.max() + 1)\n",
    "shuffle(b)\n",
    "shuffledLw = b[lw]\n",
    "imshow(shuffledLw, origin='lower', interpolation='nearest')\n",
    "colorbar()\n",
    "title(\"Labeled clusters\")\n",
    "show()"
   ]
  },
  {
   "cell_type": "code",
   "execution_count": 1077,
   "metadata": {},
   "outputs": [
    {
     "data": {
      "image/png": "[encoded data removed]",
      "text/plain": [
       "<Figure size 432x288 with 2 Axes>"
      ]
     },
     "metadata": {
      "needs_background": "light"
     },
     "output_type": "display_data"
    }
   ],
   "source": [
    "area = measurements.sum(img, lw, index=arange(lw.max() + 1))\n",
    "areaImg = area[lw]\n",
    "im3 = imshow(areaImg, origin='lower', interpolation='nearest')\n",
    "colorbar()\n",
    "title(\"Clusters by area\")\n",
    "show()"
   ]
  },
  {
   "cell_type": "markdown",
   "metadata": {},
   "source": [
    "# Cox"
   ]
  },
  {
   "cell_type": "code",
   "execution_count": 1078,
   "metadata": {},
   "outputs": [],
   "source": [
    "data = C[[\"survival_time\", \"event\"]]"
   ]
  },
  {
   "cell_type": "code",
   "execution_count": 1079,
   "metadata": {},
   "outputs": [
    {
     "name": "stderr",
     "output_type": "stream",
     "text": [
      "/home/dimi/anaconda3/envs/fastai_env/lib/python3.7/site-packages/ipykernel_launcher.py:1: SettingWithCopyWarning: \n",
      "A value is trying to be set on a copy of a slice from a DataFrame.\n",
      "Try using .loc[row_indexer,col_indexer] = value instead\n",
      "\n",
      "See the caveats in the documentation: https://pandas.pydata.org/pandas-docs/stable/user_guide/indexing.html#returning-a-view-versus-a-copy\n",
      "  \"\"\"Entry point for launching an IPython kernel.\n",
      "/home/dimi/anaconda3/envs/fastai_env/lib/python3.7/site-packages/ipykernel_launcher.py:2: SettingWithCopyWarning: \n",
      "A value is trying to be set on a copy of a slice from a DataFrame.\n",
      "Try using .loc[row_indexer,col_indexer] = value instead\n",
      "\n",
      "See the caveats in the documentation: https://pandas.pydata.org/pandas-docs/stable/user_guide/indexing.html#returning-a-view-versus-a-copy\n",
      "  \n"
     ]
    }
   ],
   "source": [
    "data[\"E\"] = np.array(Es)\n",
    "data[\"M\"] = np.array(Ms)"
   ]
  },
  {
   "cell_type": "code",
   "execution_count": 1080,
   "metadata": {},
   "outputs": [
    {
     "data": {
      "text/html": [
       "<div>\n",
       "<style scoped>\n",
       "    .dataframe tbody tr th:only-of-type {\n",
       "        vertical-align: middle;\n",
       "    }\n",
       "\n",
       "    .dataframe tbody tr th {\n",
       "        vertical-align: top;\n",
       "    }\n",
       "\n",
       "    .dataframe thead th {\n",
       "        text-align: right;\n",
       "    }\n",
       "</style>\n",
       "<table border=\"1\" class=\"dataframe\">\n",
       "  <thead>\n",
       "    <tr style=\"text-align: right;\">\n",
       "      <th></th>\n",
       "      <th>survival_time</th>\n",
       "      <th>event</th>\n",
       "      <th>E</th>\n",
       "      <th>M</th>\n",
       "    </tr>\n",
       "  </thead>\n",
       "  <tbody>\n",
       "    <tr>\n",
       "      <th>274</th>\n",
       "      <td>10.000000</td>\n",
       "      <td>0.0</td>\n",
       "      <td>2.5</td>\n",
       "      <td>6</td>\n",
       "    </tr>\n",
       "    <tr>\n",
       "      <th>374</th>\n",
       "      <td>8.436111</td>\n",
       "      <td>0.0</td>\n",
       "      <td>3.5</td>\n",
       "      <td>8</td>\n",
       "    </tr>\n",
       "    <tr>\n",
       "      <th>486</th>\n",
       "      <td>8.547222</td>\n",
       "      <td>0.0</td>\n",
       "      <td>3.0</td>\n",
       "      <td>7</td>\n",
       "    </tr>\n",
       "    <tr>\n",
       "      <th>455</th>\n",
       "      <td>9.550000</td>\n",
       "      <td>0.0</td>\n",
       "      <td>2.5</td>\n",
       "      <td>6</td>\n",
       "    </tr>\n",
       "    <tr>\n",
       "      <th>166</th>\n",
       "      <td>7.177778</td>\n",
       "      <td>0.0</td>\n",
       "      <td>2.5</td>\n",
       "      <td>6</td>\n",
       "    </tr>\n",
       "  </tbody>\n",
       "</table>\n",
       "</div>"
      ],
      "text/plain": [
       "     survival_time  event    E  M\n",
       "274      10.000000    0.0  2.5  6\n",
       "374       8.436111    0.0  3.5  8\n",
       "486       8.547222    0.0  3.0  7\n",
       "455       9.550000    0.0  2.5  6\n",
       "166       7.177778    0.0  2.5  6"
      ]
     },
     "execution_count": 1080,
     "metadata": {},
     "output_type": "execute_result"
    }
   ],
   "source": [
    "data.head()"
   ]
  },
  {
   "cell_type": "code",
   "execution_count": 1081,
   "metadata": {},
   "outputs": [],
   "source": [
    "#import seaborn as sns"
   ]
  },
  {
   "cell_type": "code",
   "execution_count": 1082,
   "metadata": {},
   "outputs": [
    {
     "name": "stderr",
     "output_type": "stream",
     "text": [
      "/home/dimi/anaconda3/envs/fastai_env/lib/python3.7/site-packages/seaborn/categorical.py:1296: UserWarning: 59.2% of the points cannot be placed; you may want to decrease the size of the markers or use stripplot.\n",
      "  warnings.warn(msg, UserWarning)\n",
      "/home/dimi/anaconda3/envs/fastai_env/lib/python3.7/site-packages/seaborn/categorical.py:1296: UserWarning: 9.1% of the points cannot be placed; you may want to decrease the size of the markers or use stripplot.\n",
      "  warnings.warn(msg, UserWarning)\n"
     ]
    },
    {
     "data": {
      "image/png": "[encoded data removed]",
      "text/plain": [
       "<Figure size 432x288 with 1 Axes>"
      ]
     },
     "metadata": {
      "needs_background": "light"
     },
     "output_type": "display_data"
    }
   ],
   "source": [
    "sns.boxplot(x=\"event\",   y=\"E\", data=data);\n",
    "sns.swarmplot(x=\"event\", y=\"E\", data=data, color=\".25\");"
   ]
  },
  {
   "cell_type": "code",
   "execution_count": 1083,
   "metadata": {},
   "outputs": [
    {
     "name": "stderr",
     "output_type": "stream",
     "text": [
      "/home/dimi/anaconda3/envs/fastai_env/lib/python3.7/site-packages/seaborn/categorical.py:1296: UserWarning: 61.8% of the points cannot be placed; you may want to decrease the size of the markers or use stripplot.\n",
      "  warnings.warn(msg, UserWarning)\n",
      "/home/dimi/anaconda3/envs/fastai_env/lib/python3.7/site-packages/seaborn/categorical.py:1296: UserWarning: 11.6% of the points cannot be placed; you may want to decrease the size of the markers or use stripplot.\n",
      "  warnings.warn(msg, UserWarning)\n"
     ]
    },
    {
     "data": {
      "image/png": "[encoded data removed]",
      "text/plain": [
       "<Figure size 432x288 with 1 Axes>"
      ]
     },
     "metadata": {
      "needs_background": "light"
     },
     "output_type": "display_data"
    }
   ],
   "source": [
    "sns.boxplot(x=\"event\",   y=\"M\", data=data);\n",
    "sns.swarmplot(x=\"event\", y=\"M\", data=data, color=\".25\");"
   ]
  },
  {
   "cell_type": "code",
   "execution_count": 1084,
   "metadata": {},
   "outputs": [],
   "source": [
    "dataa = pd.concat([C,data.drop(columns=[\"survival_time\", \"event\"])], axis=1)"
   ]
  },
  {
   "cell_type": "code",
   "execution_count": 1085,
   "metadata": {},
   "outputs": [],
   "source": [
    "# from lifelines import CoxPHFitter"
   ]
  },
  {
   "cell_type": "code",
   "execution_count": 1086,
   "metadata": {},
   "outputs": [
    {
     "data": {
      "text/plain": [
       "<lifelines.CoxPHFitter: fitted with 636 total observations, 480 right-censored observations>"
      ]
     },
     "execution_count": 1086,
     "metadata": {},
     "output_type": "execute_result"
    }
   ],
   "source": [
    "cph = CoxPHFitter()\n",
    "# cph.fit(data.drop(columns=[\"E\"]), duration_col='survival_time', event_col='event')\n",
    "data_cox = dataa[[\"survival_time\", \"event\", \"E\", \"M\", \n",
    "                  \"grade\", \"node_status\", \"tumor_size\"]]\n",
    "data_cox = data_cox.dropna()\n",
    "cph.fit(data_cox, duration_col='survival_time', event_col='event', \n",
    "        formula=\"M + grade + node_status + tumor_size\")"
   ]
  },
  {
   "cell_type": "code",
   "execution_count": 1087,
   "metadata": {},
   "outputs": [
    {
     "data": {
      "text/html": [
       "<div>\n",
       "<style scoped>\n",
       "    .dataframe tbody tr th:only-of-type {\n",
       "        vertical-align: middle;\n",
       "    }\n",
       "\n",
       "    .dataframe tbody tr th {\n",
       "        vertical-align: top;\n",
       "    }\n",
       "\n",
       "    .dataframe thead th {\n",
       "        text-align: right;\n",
       "    }\n",
       "</style>\n",
       "<table border=\"1\" class=\"dataframe\">\n",
       "  <tbody>\n",
       "    <tr>\n",
       "      <th>model</th>\n",
       "      <td>lifelines.CoxPHFitter</td>\n",
       "    </tr>\n",
       "    <tr>\n",
       "      <th>duration col</th>\n",
       "      <td>'survival_time'</td>\n",
       "    </tr>\n",
       "    <tr>\n",
       "      <th>event col</th>\n",
       "      <td>'event'</td>\n",
       "    </tr>\n",
       "    <tr>\n",
       "      <th>baseline estimation</th>\n",
       "      <td>breslow</td>\n",
       "    </tr>\n",
       "    <tr>\n",
       "      <th>number of observations</th>\n",
       "      <td>636</td>\n",
       "    </tr>\n",
       "    <tr>\n",
       "      <th>number of events observed</th>\n",
       "      <td>156</td>\n",
       "    </tr>\n",
       "    <tr>\n",
       "      <th>partial log-likelihood</th>\n",
       "      <td>-941.12</td>\n",
       "    </tr>\n",
       "    <tr>\n",
       "      <th>time fit was run</th>\n",
       "      <td>2022-03-17 13:52:32 UTC</td>\n",
       "    </tr>\n",
       "  </tbody>\n",
       "</table>\n",
       "</div><table border=\"1\" class=\"dataframe\">\n",
       "  <thead>\n",
       "    <tr style=\"text-align: right;\">\n",
       "      <th style=\"min-width: 12px;\"></th>\n",
       "      <th style=\"min-width: 12px;\">coef</th>\n",
       "      <th style=\"min-width: 12px;\">exp(coef)</th>\n",
       "      <th style=\"min-width: 12px;\">se(coef)</th>\n",
       "      <th style=\"min-width: 12px;\">coef lower 95%</th>\n",
       "      <th style=\"min-width: 12px;\">coef upper 95%</th>\n",
       "      <th style=\"min-width: 12px;\">exp(coef) lower 95%</th>\n",
       "      <th style=\"min-width: 12px;\">exp(coef) upper 95%</th>\n",
       "      <th style=\"min-width: 12px;\">z</th>\n",
       "      <th style=\"min-width: 12px;\">p</th>\n",
       "      <th style=\"min-width: 12px;\">-log2(p)</th>\n",
       "    </tr>\n",
       "  </thead>\n",
       "  <tbody>\n",
       "    <tr>\n",
       "      <th>M</th>\n",
       "      <td>0.02</td>\n",
       "      <td>1.03</td>\n",
       "      <td>0.03</td>\n",
       "      <td>-0.04</td>\n",
       "      <td>0.09</td>\n",
       "      <td>0.97</td>\n",
       "      <td>1.09</td>\n",
       "      <td>0.81</td>\n",
       "      <td>0.42</td>\n",
       "      <td>1.25</td>\n",
       "    </tr>\n",
       "    <tr>\n",
       "      <th>grade[T.2]</th>\n",
       "      <td>0.41</td>\n",
       "      <td>1.51</td>\n",
       "      <td>0.33</td>\n",
       "      <td>-0.23</td>\n",
       "      <td>1.05</td>\n",
       "      <td>0.80</td>\n",
       "      <td>2.87</td>\n",
       "      <td>1.26</td>\n",
       "      <td>0.21</td>\n",
       "      <td>2.27</td>\n",
       "    </tr>\n",
       "    <tr>\n",
       "      <th>grade[T.3]</th>\n",
       "      <td>0.91</td>\n",
       "      <td>2.49</td>\n",
       "      <td>0.32</td>\n",
       "      <td>0.28</td>\n",
       "      <td>1.55</td>\n",
       "      <td>1.32</td>\n",
       "      <td>4.69</td>\n",
       "      <td>2.81</td>\n",
       "      <td>&lt;0.005</td>\n",
       "      <td>7.65</td>\n",
       "    </tr>\n",
       "    <tr>\n",
       "      <th>node_status[T.1]</th>\n",
       "      <td>0.64</td>\n",
       "      <td>1.89</td>\n",
       "      <td>0.16</td>\n",
       "      <td>0.31</td>\n",
       "      <td>0.96</td>\n",
       "      <td>1.37</td>\n",
       "      <td>2.61</td>\n",
       "      <td>3.87</td>\n",
       "      <td>&lt;0.005</td>\n",
       "      <td>13.16</td>\n",
       "    </tr>\n",
       "    <tr>\n",
       "      <th>tumor_size</th>\n",
       "      <td>0.25</td>\n",
       "      <td>1.28</td>\n",
       "      <td>0.05</td>\n",
       "      <td>0.14</td>\n",
       "      <td>0.36</td>\n",
       "      <td>1.15</td>\n",
       "      <td>1.43</td>\n",
       "      <td>4.56</td>\n",
       "      <td>&lt;0.005</td>\n",
       "      <td>17.58</td>\n",
       "    </tr>\n",
       "  </tbody>\n",
       "</table><br><div>\n",
       "<style scoped>\n",
       "    .dataframe tbody tr th:only-of-type {\n",
       "        vertical-align: middle;\n",
       "    }\n",
       "\n",
       "    .dataframe tbody tr th {\n",
       "        vertical-align: top;\n",
       "    }\n",
       "\n",
       "    .dataframe thead th {\n",
       "        text-align: right;\n",
       "    }\n",
       "</style>\n",
       "<table border=\"1\" class=\"dataframe\">\n",
       "  <tbody>\n",
       "    <tr>\n",
       "      <th>Concordance</th>\n",
       "      <td>0.69</td>\n",
       "    </tr>\n",
       "    <tr>\n",
       "      <th>Partial AIC</th>\n",
       "      <td>1892.24</td>\n",
       "    </tr>\n",
       "    <tr>\n",
       "      <th>log-likelihood ratio test</th>\n",
       "      <td>63.83 on 5 df</td>\n",
       "    </tr>\n",
       "    <tr>\n",
       "      <th>-log2(p) of ll-ratio test</th>\n",
       "      <td>38.89</td>\n",
       "    </tr>\n",
       "  </tbody>\n",
       "</table>\n",
       "</div>"
      ],
      "text/latex": [
       "\\begin{tabular}{lrrrrrrrrrr}\n",
       "\\toprule\n",
       "{} &  coef &  exp(coef) &  se(coef) &  coef lower 95\\% &  coef upper 95\\% &  exp(coef) lower 95\\% &  exp(coef) upper 95\\% &    z &    p &  -log2(p) \\\\\n",
       "covariate        &       &            &           &                 &                 &                      &                      &      &      &           \\\\\n",
       "\\midrule\n",
       "M                &  0.02 &       1.03 &      0.03 &           -0.04 &            0.09 &                 0.97 &                 1.09 & 0.81 & 0.42 &      1.25 \\\\\n",
       "grade[T.2]       &  0.41 &       1.51 &      0.33 &           -0.23 &            1.05 &                 0.80 &                 2.87 & 1.26 & 0.21 &      2.27 \\\\\n",
       "grade[T.3]       &  0.91 &       2.49 &      0.32 &            0.28 &            1.55 &                 1.32 &                 4.69 & 2.81 & 0.00 &      7.65 \\\\\n",
       "node\\_status[T.1] &  0.64 &       1.89 &      0.16 &            0.31 &            0.96 &                 1.37 &                 2.61 & 3.87 & 0.00 &     13.16 \\\\\n",
       "tumor\\_size       &  0.25 &       1.28 &      0.05 &            0.14 &            0.36 &                 1.15 &                 1.43 & 4.56 & 0.00 &     17.58 \\\\\n",
       "\\bottomrule\n",
       "\\end{tabular}\n"
      ],
      "text/plain": [
       "<lifelines.CoxPHFitter: fitted with 636 total observations, 480 right-censored observations>\n",
       "             duration col = 'survival_time'\n",
       "                event col = 'event'\n",
       "      baseline estimation = breslow\n",
       "   number of observations = 636\n",
       "number of events observed = 156\n",
       "   partial log-likelihood = -941.12\n",
       "         time fit was run = 2022-03-17 13:52:32 UTC\n",
       "\n",
       "---\n",
       "                   coef  exp(coef)   se(coef)   coef lower 95%   coef upper 95%  exp(coef) lower 95%  exp(coef) upper 95%\n",
       "covariate                                                                                                                \n",
       "M                  0.02       1.03       0.03            -0.04             0.09                 0.97                 1.09\n",
       "grade[T.2]         0.41       1.51       0.33            -0.23             1.05                 0.80                 2.87\n",
       "grade[T.3]         0.91       2.49       0.32             0.28             1.55                 1.32                 4.69\n",
       "node_status[T.1]   0.64       1.89       0.16             0.31             0.96                 1.37                 2.61\n",
       "tumor_size         0.25       1.28       0.05             0.14             0.36                 1.15                 1.43\n",
       "\n",
       "                    z      p   -log2(p)\n",
       "covariate                              \n",
       "M                0.81   0.42       1.25\n",
       "grade[T.2]       1.26   0.21       2.27\n",
       "grade[T.3]       2.81 <0.005       7.65\n",
       "node_status[T.1] 3.87 <0.005      13.16\n",
       "tumor_size       4.56 <0.005      17.58\n",
       "---\n",
       "Concordance = 0.69\n",
       "Partial AIC = 1892.24\n",
       "log-likelihood ratio test = 63.83 on 5 df\n",
       "-log2(p) of ll-ratio test = 38.89"
      ]
     },
     "metadata": {},
     "output_type": "display_data"
    }
   ],
   "source": [
    "cph.print_summary() "
   ]
  },
  {
   "cell_type": "code",
   "execution_count": 1003,
   "metadata": {},
   "outputs": [
    {
     "data": {
      "text/html": [
       "<div>\n",
       "<style scoped>\n",
       "    .dataframe tbody tr th:only-of-type {\n",
       "        vertical-align: middle;\n",
       "    }\n",
       "\n",
       "    .dataframe tbody tr th {\n",
       "        vertical-align: top;\n",
       "    }\n",
       "\n",
       "    .dataframe thead th {\n",
       "        text-align: right;\n",
       "    }\n",
       "</style>\n",
       "<table border=\"1\" class=\"dataframe\">\n",
       "  <tbody>\n",
       "    <tr>\n",
       "      <th>model</th>\n",
       "      <td>lifelines.CoxPHFitter</td>\n",
       "    </tr>\n",
       "    <tr>\n",
       "      <th>duration col</th>\n",
       "      <td>'survival_time'</td>\n",
       "    </tr>\n",
       "    <tr>\n",
       "      <th>event col</th>\n",
       "      <td>'event'</td>\n",
       "    </tr>\n",
       "    <tr>\n",
       "      <th>baseline estimation</th>\n",
       "      <td>breslow</td>\n",
       "    </tr>\n",
       "    <tr>\n",
       "      <th>number of observations</th>\n",
       "      <td>636</td>\n",
       "    </tr>\n",
       "    <tr>\n",
       "      <th>number of events observed</th>\n",
       "      <td>156</td>\n",
       "    </tr>\n",
       "    <tr>\n",
       "      <th>partial log-likelihood</th>\n",
       "      <td>-971.18</td>\n",
       "    </tr>\n",
       "    <tr>\n",
       "      <th>time fit was run</th>\n",
       "      <td>2022-03-17 11:42:38 UTC</td>\n",
       "    </tr>\n",
       "  </tbody>\n",
       "</table>\n",
       "</div><table border=\"1\" class=\"dataframe\">\n",
       "  <thead>\n",
       "    <tr style=\"text-align: right;\">\n",
       "      <th style=\"min-width: 12px;\"></th>\n",
       "      <th style=\"min-width: 12px;\">coef</th>\n",
       "      <th style=\"min-width: 12px;\">exp(coef)</th>\n",
       "      <th style=\"min-width: 12px;\">se(coef)</th>\n",
       "      <th style=\"min-width: 12px;\">coef lower 95%</th>\n",
       "      <th style=\"min-width: 12px;\">coef upper 95%</th>\n",
       "      <th style=\"min-width: 12px;\">exp(coef) lower 95%</th>\n",
       "      <th style=\"min-width: 12px;\">exp(coef) upper 95%</th>\n",
       "      <th style=\"min-width: 12px;\">z</th>\n",
       "      <th style=\"min-width: 12px;\">p</th>\n",
       "      <th style=\"min-width: 12px;\">-log2(p)</th>\n",
       "    </tr>\n",
       "  </thead>\n",
       "  <tbody>\n",
       "    <tr>\n",
       "      <th>M</th>\n",
       "      <td>0.03</td>\n",
       "      <td>1.03</td>\n",
       "      <td>0.02</td>\n",
       "      <td>-0.00</td>\n",
       "      <td>0.06</td>\n",
       "      <td>1.00</td>\n",
       "      <td>1.07</td>\n",
       "      <td>1.91</td>\n",
       "      <td>0.06</td>\n",
       "      <td>4.15</td>\n",
       "    </tr>\n",
       "  </tbody>\n",
       "</table><br><div>\n",
       "<style scoped>\n",
       "    .dataframe tbody tr th:only-of-type {\n",
       "        vertical-align: middle;\n",
       "    }\n",
       "\n",
       "    .dataframe tbody tr th {\n",
       "        vertical-align: top;\n",
       "    }\n",
       "\n",
       "    .dataframe thead th {\n",
       "        text-align: right;\n",
       "    }\n",
       "</style>\n",
       "<table border=\"1\" class=\"dataframe\">\n",
       "  <tbody>\n",
       "    <tr>\n",
       "      <th>Concordance</th>\n",
       "      <td>0.54</td>\n",
       "    </tr>\n",
       "    <tr>\n",
       "      <th>Partial AIC</th>\n",
       "      <td>1944.37</td>\n",
       "    </tr>\n",
       "    <tr>\n",
       "      <th>log-likelihood ratio test</th>\n",
       "      <td>3.70 on 1 df</td>\n",
       "    </tr>\n",
       "    <tr>\n",
       "      <th>-log2(p) of ll-ratio test</th>\n",
       "      <td>4.20</td>\n",
       "    </tr>\n",
       "  </tbody>\n",
       "</table>\n",
       "</div>"
      ],
      "text/latex": [
       "\\begin{tabular}{lrrrrrrrrrr}\n",
       "\\toprule\n",
       "{} &  coef &  exp(coef) &  se(coef) &  coef lower 95\\% &  coef upper 95\\% &  exp(coef) lower 95\\% &  exp(coef) upper 95\\% &    z &    p &  -log2(p) \\\\\n",
       "covariate &       &            &           &                 &                 &                      &                      &      &      &           \\\\\n",
       "\\midrule\n",
       "M         &  0.03 &       1.03 &      0.02 &           -0.00 &            0.06 &                 1.00 &                 1.07 & 1.91 & 0.06 &      4.15 \\\\\n",
       "\\bottomrule\n",
       "\\end{tabular}\n"
      ],
      "text/plain": [
       "<lifelines.CoxPHFitter: fitted with 636 total observations, 480 right-censored observations>\n",
       "             duration col = 'survival_time'\n",
       "                event col = 'event'\n",
       "      baseline estimation = breslow\n",
       "   number of observations = 636\n",
       "number of events observed = 156\n",
       "   partial log-likelihood = -971.18\n",
       "         time fit was run = 2022-03-17 11:42:38 UTC\n",
       "\n",
       "---\n",
       "            coef  exp(coef)   se(coef)   coef lower 95%   coef upper 95%  exp(coef) lower 95%  exp(coef) upper 95%\n",
       "covariate                                                                                                         \n",
       "M           0.03       1.03       0.02            -0.00             0.06                 1.00                 1.07\n",
       "\n",
       "             z    p   -log2(p)\n",
       "covariate                     \n",
       "M         1.91 0.06       4.15\n",
       "---\n",
       "Concordance = 0.54\n",
       "Partial AIC = 1944.37\n",
       "log-likelihood ratio test = 3.70 on 1 df\n",
       "-log2(p) of ll-ratio test = 4.20"
      ]
     },
     "metadata": {},
     "output_type": "display_data"
    }
   ],
   "source": [
    "cph.fit(data_cox, duration_col='survival_time', event_col='event', \n",
    "        formula=\"M\")\n",
    "cph.print_summary() "
   ]
  },
  {
   "cell_type": "code",
   "execution_count": 1004,
   "metadata": {},
   "outputs": [
    {
     "name": "stderr",
     "output_type": "stream",
     "text": [
      "/home/dimi/anaconda3/envs/fastai_env/lib/python3.7/site-packages/seaborn/categorical.py:1296: UserWarning: 22.0% of the points cannot be placed; you may want to decrease the size of the markers or use stripplot.\n",
      "  warnings.warn(msg, UserWarning)\n"
     ]
    },
    {
     "data": {
      "image/png": "[encoded data removed]",
      "text/plain": [
       "<Figure size 432x288 with 1 Axes>"
      ]
     },
     "metadata": {
      "needs_background": "light"
     },
     "output_type": "display_data"
    }
   ],
   "source": [
    "sns.boxplot(x=\"event\",   y=\"M\", data=data);\n",
    "sns.swarmplot(x=\"event\", y=\"M\", data=data, color=\".25\");"
   ]
  },
  {
   "cell_type": "code",
   "execution_count": 367,
   "metadata": {},
   "outputs": [
    {
     "data": {
      "text/plain": [
       "0.9355702583490864"
      ]
     },
     "execution_count": 367,
     "metadata": {},
     "output_type": "execute_result"
    },
    {
     "data": {
      "image/png": "[encoded data removed]",
      "text/plain": [
       "<Figure size 432x288 with 1 Axes>"
      ]
     },
     "metadata": {
      "needs_background": "light"
     },
     "output_type": "display_data"
    }
   ],
   "source": [
    "data[\"M\"].hist()\n",
    "data[\"M\"].max()"
   ]
  },
  {
   "cell_type": "code",
   "execution_count": 369,
   "metadata": {},
   "outputs": [
    {
     "data": {
      "text/plain": [
       "<matplotlib.axes._subplots.AxesSubplot at 0x7f4d3eaffb90>"
      ]
     },
     "execution_count": 369,
     "metadata": {},
     "output_type": "execute_result"
    },
    {
     "data": {
      "image/png": "[encoded data removed]",
      "text/plain": [
       "<Figure size 432x288 with 1 Axes>"
      ]
     },
     "metadata": {
      "needs_background": "light"
     },
     "output_type": "display_data"
    }
   ],
   "source": [
    "dm=0.1\n",
    "cph.plot_partial_effects_on_outcome(covariates='M', values=[data[\"M\"].max()-dm,\n",
    "                                                           data[\"M\"].max()-2*dm,\n",
    "                                                           data[\"M\"].max()-3*dm,\n",
    "                                                           data[\"M\"].max()-4*dm\n",
    "                                                           ], cmap='coolwarm')"
   ]
  },
  {
   "cell_type": "code",
   "execution_count": null,
   "metadata": {},
   "outputs": [],
   "source": []
  }
 ],
 "metadata": {
  "kernelspec": {
   "display_name": "Python 3",
   "language": "python",
   "name": "python3"
  },
  "language_info": {
   "codemirror_mode": {
    "name": "ipython",
    "version": 3
   },
   "file_extension": ".py",
   "mimetype": "text/x-python",
   "name": "python",
   "nbconvert_exporter": "python",
   "pygments_lexer": "ipython3",
   "version": "3.8.10"
  }
 },
 "nbformat": 4,
 "nbformat_minor": 4
}
