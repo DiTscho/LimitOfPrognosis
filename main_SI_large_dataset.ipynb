{
 "cells": [
  {
   "cell_type": "code",
   "execution_count": 1,
   "metadata": {},
   "outputs": [],
   "source": [
    "options(warn=0)"
   ]
  },
  {
   "cell_type": "code",
   "execution_count": 2,
   "metadata": {},
   "outputs": [
    {
     "name": "stderr",
     "output_type": "stream",
     "text": [
      "── \u001b[1mAttaching packages\u001b[22m ─────────────────────────────────────── tidyverse 1.3.0 ──\n",
      "\n",
      "\u001b[32m✔\u001b[39m \u001b[34mggplot2\u001b[39m 3.3.6     \u001b[32m✔\u001b[39m \u001b[34mpurrr  \u001b[39m 0.3.4\n",
      "\u001b[32m✔\u001b[39m \u001b[34mtibble \u001b[39m 3.1.0     \u001b[32m✔\u001b[39m \u001b[34mdplyr  \u001b[39m 1.0.5\n",
      "\u001b[32m✔\u001b[39m \u001b[34mtidyr  \u001b[39m 1.1.3     \u001b[32m✔\u001b[39m \u001b[34mstringr\u001b[39m 1.4.0\n",
      "\u001b[32m✔\u001b[39m \u001b[34mreadr  \u001b[39m 1.4.0     \u001b[32m✔\u001b[39m \u001b[34mforcats\u001b[39m 0.5.1\n",
      "\n",
      "── \u001b[1mConflicts\u001b[22m ────────────────────────────────────────── tidyverse_conflicts() ──\n",
      "\u001b[31m✖\u001b[39m \u001b[34mdplyr\u001b[39m::\u001b[32mfilter()\u001b[39m masks \u001b[34mstats\u001b[39m::filter()\n",
      "\u001b[31m✖\u001b[39m \u001b[34mdplyr\u001b[39m::\u001b[32mlag()\u001b[39m    masks \u001b[34mstats\u001b[39m::lag()\n",
      "\n",
      "Warning message:\n",
      "“package ‘survival’ was built under R version 4.1.1”\n",
      "Loading required package: ggpubr\n",
      "\n",
      "\n",
      "Attaching package: ‘survminer’\n",
      "\n",
      "\n",
      "The following object is masked from ‘package:survival’:\n",
      "\n",
      "    myeloma\n",
      "\n",
      "\n"
     ]
    }
   ],
   "source": [
    "#export \n",
    "source(\"exp/nb_01.R\")"
   ]
  },
  {
   "cell_type": "code",
   "execution_count": 3,
   "metadata": {},
   "outputs": [
    {
     "name": "stderr",
     "output_type": "stream",
     "text": [
      "Loading required package: ParamHelpers\n",
      "\n",
      "Warning message: 'mlr' is in 'maintenance-only' mode since July 2019.\n",
      "Future development will only happen in 'mlr3'\n",
      "(<https://mlr3.mlr-org.com>). Due to the focus on 'mlr3' there might be\n",
      "uncaught bugs meanwhile in {mlr} - please consider switching.\n",
      "\n"
     ]
    }
   ],
   "source": [
    "library(mlr)\n",
    "library(survival)"
   ]
  },
  {
   "cell_type": "markdown",
   "metadata": {},
   "source": [
    "## Load datasets"
   ]
  },
  {
   "cell_type": "code",
   "execution_count": 4,
   "metadata": {},
   "outputs": [
    {
     "data": {
      "text/html": [
       "<style>\n",
       ".list-inline {list-style: none; margin:0; padding: 0}\n",
       ".list-inline>li {display: inline-block}\n",
       ".list-inline>li:not(:last-child)::after {content: \"\\00b7\"; padding: 0 .5ex}\n",
       "</style>\n",
       "<ol class=list-inline><li>'METABRIC'</li><li>'GSE11121'</li><li>'GSE96058'</li><li>'GSE7390'</li><li>'GSE9893'</li><li>'NKI'</li><li>'TCGA'</li><li>'GSE4922'</li></ol>\n"
      ],
      "text/latex": [
       "\\begin{enumerate*}\n",
       "\\item 'METABRIC'\n",
       "\\item 'GSE11121'\n",
       "\\item 'GSE96058'\n",
       "\\item 'GSE7390'\n",
       "\\item 'GSE9893'\n",
       "\\item 'NKI'\n",
       "\\item 'TCGA'\n",
       "\\item 'GSE4922'\n",
       "\\end{enumerate*}\n"
      ],
      "text/markdown": [
       "1. 'METABRIC'\n",
       "2. 'GSE11121'\n",
       "3. 'GSE96058'\n",
       "4. 'GSE7390'\n",
       "5. 'GSE9893'\n",
       "6. 'NKI'\n",
       "7. 'TCGA'\n",
       "8. 'GSE4922'\n",
       "\n",
       "\n"
      ],
      "text/plain": [
       "[1] \"METABRIC\" \"GSE11121\" \"GSE96058\" \"GSE7390\"  \"GSE9893\"  \"NKI\"      \"TCGA\"    \n",
       "[8] \"GSE4922\" "
      ]
     },
     "metadata": {},
     "output_type": "display_data"
    }
   ],
   "source": [
    "dfs = readRDS(paste(data_path,\"dfs_filtered.rds\", sep=\"\"))\n",
    "#dfs = readRDS(\"../data/dfs_filtered_for_feature_selection.rds\")\n",
    "names(dfs)"
   ]
  },
  {
   "cell_type": "markdown",
   "metadata": {},
   "source": [
    "## Normailze datasets"
   ]
  },
  {
   "cell_type": "code",
   "execution_count": 5,
   "metadata": {},
   "outputs": [],
   "source": [
    "zscore = function(x){(x - mean(x))/sd(x)}"
   ]
  },
  {
   "cell_type": "code",
   "execution_count": 6,
   "metadata": {},
   "outputs": [],
   "source": [
    "first_cols = c(53, 61, 117, 100, 85, 31, 107, 75)\n",
    "\n",
    "for (n in 1:8){\n",
    "    dfs[[n]] = dfs[[n]] %>%\n",
    "        as_tibble() %>%\n",
    "        mutate(across(c(first_cols[n]:dim(dfs[[n]])[2]), zscore))}"
   ]
  },
  {
   "cell_type": "markdown",
   "metadata": {},
   "source": [
    "## Select common genes"
   ]
  },
  {
   "cell_type": "code",
   "execution_count": 7,
   "metadata": {},
   "outputs": [
    {
     "data": {
      "text/html": [
       "3973"
      ],
      "text/latex": [
       "3973"
      ],
      "text/markdown": [
       "3973"
      ],
      "text/plain": [
       "[1] 3973"
      ]
     },
     "metadata": {},
     "output_type": "display_data"
    }
   ],
   "source": [
    "df_names = map(1:8, function(i) colnames(dfs[[i]]))\n",
    "common_genes = Reduce(intersect,  df_names)\n",
    "length(common_genes)"
   ]
  },
  {
   "cell_type": "code",
   "execution_count": 8,
   "metadata": {},
   "outputs": [],
   "source": [
    "common_genes = common_genes[-c(1,4,5,6,7)]"
   ]
  },
  {
   "cell_type": "code",
   "execution_count": 9,
   "metadata": {},
   "outputs": [],
   "source": [
    "for (n in 1:8){dfs[[n]] = dfs[[n]][,common_genes]}"
   ]
  },
  {
   "cell_type": "code",
   "execution_count": 10,
   "metadata": {},
   "outputs": [],
   "source": [
    "df_merged = bind_rows(dfs, .id = \"id\")"
   ]
  },
  {
   "cell_type": "code",
   "execution_count": 11,
   "metadata": {},
   "outputs": [
    {
     "data": {
      "text/html": [
       "<style>\n",
       ".list-inline {list-style: none; margin:0; padding: 0}\n",
       ".list-inline>li {display: inline-block}\n",
       ".list-inline>li:not(:last-child)::after {content: \"\\00b7\"; padding: 0 .5ex}\n",
       "</style>\n",
       "<ol class=list-inline><li>2553</li><li>3969</li></ol>\n"
      ],
      "text/latex": [
       "\\begin{enumerate*}\n",
       "\\item 2553\n",
       "\\item 3969\n",
       "\\end{enumerate*}\n"
      ],
      "text/markdown": [
       "1. 2553\n",
       "2. 3969\n",
       "\n",
       "\n"
      ],
      "text/plain": [
       "[1] 2553 3969"
      ]
     },
     "metadata": {},
     "output_type": "display_data"
    }
   ],
   "source": [
    "dim(df_merged)"
   ]
  },
  {
   "cell_type": "code",
   "execution_count": 12,
   "metadata": {},
   "outputs": [
    {
     "data": {
      "text/html": [
       "<style>\n",
       ".list-inline {list-style: none; margin:0; padding: 0}\n",
       ".list-inline>li {display: inline-block}\n",
       ".list-inline>li:not(:last-child)::after {content: \"\\00b7\"; padding: 0 .5ex}\n",
       "</style>\n",
       "<ol class=list-inline><li>2549</li><li>3969</li></ol>\n"
      ],
      "text/latex": [
       "\\begin{enumerate*}\n",
       "\\item 2549\n",
       "\\item 3969\n",
       "\\end{enumerate*}\n"
      ],
      "text/markdown": [
       "1. 2549\n",
       "2. 3969\n",
       "\n",
       "\n"
      ],
      "text/plain": [
       "[1] 2549 3969"
      ]
     },
     "metadata": {},
     "output_type": "display_data"
    }
   ],
   "source": [
    "df_merged = df_merged[is.na(df_merged$survival_time)==FALSE,]\n",
    "dim(df_merged)"
   ]
  },
  {
   "cell_type": "code",
   "execution_count": 13,
   "metadata": {},
   "outputs": [
    {
     "data": {
      "text/html": [
       "<style>\n",
       ".list-inline {list-style: none; margin:0; padding: 0}\n",
       ".list-inline>li {display: inline-block}\n",
       ".list-inline>li:not(:last-child)::after {content: \"\\00b7\"; padding: 0 .5ex}\n",
       "</style>\n",
       "<ol class=list-inline><li>2549</li><li>3969</li></ol>\n"
      ],
      "text/latex": [
       "\\begin{enumerate*}\n",
       "\\item 2549\n",
       "\\item 3969\n",
       "\\end{enumerate*}\n"
      ],
      "text/markdown": [
       "1. 2549\n",
       "2. 3969\n",
       "\n",
       "\n"
      ],
      "text/plain": [
       "[1] 2549 3969"
      ]
     },
     "metadata": {},
     "output_type": "display_data"
    }
   ],
   "source": [
    "df_merged = df_merged %>% \n",
    "  mutate_if(is.numeric, ~replace_na(.,mean(., na.rm = TRUE)))\n",
    "dim(df_merged)"
   ]
  },
  {
   "cell_type": "code",
   "execution_count": 14,
   "metadata": {},
   "outputs": [],
   "source": [
    "df_merged$id = as.factor(df_merged$id)"
   ]
  },
  {
   "cell_type": "code",
   "execution_count": 15,
   "metadata": {},
   "outputs": [
    {
     "data": {
      "text/html": [
       "<table class=\"dataframe\">\n",
       "<caption>A tibble: 5 × 20</caption>\n",
       "<thead>\n",
       "\t<tr><th scope=col>id</th><th scope=col>survival_time</th><th scope=col>event</th><th scope=col>RPS28</th><th scope=col>PDE4DIP</th><th scope=col>CCNE2</th><th scope=col>COL17A1</th><th scope=col>HMG20B</th><th scope=col>CD69</th><th scope=col>SPP1</th><th scope=col>HBE1</th><th scope=col>MFN2</th><th scope=col>DCK</th><th scope=col>FOXI1</th><th scope=col>COX11</th><th scope=col>CYP26A1</th><th scope=col>GADD45G</th><th scope=col>ABCD4</th><th scope=col>SEMA3E</th><th scope=col>AQP3</th></tr>\n",
       "\t<tr><th scope=col>&lt;fct&gt;</th><th scope=col>&lt;dbl&gt;</th><th scope=col>&lt;dbl&gt;</th><th scope=col>&lt;dbl&gt;</th><th scope=col>&lt;dbl&gt;</th><th scope=col>&lt;dbl&gt;</th><th scope=col>&lt;dbl&gt;</th><th scope=col>&lt;dbl&gt;</th><th scope=col>&lt;dbl&gt;</th><th scope=col>&lt;dbl&gt;</th><th scope=col>&lt;dbl&gt;</th><th scope=col>&lt;dbl&gt;</th><th scope=col>&lt;dbl&gt;</th><th scope=col>&lt;dbl&gt;</th><th scope=col>&lt;dbl&gt;</th><th scope=col>&lt;dbl&gt;</th><th scope=col>&lt;dbl&gt;</th><th scope=col>&lt;dbl&gt;</th><th scope=col>&lt;dbl&gt;</th><th scope=col>&lt;dbl&gt;</th></tr>\n",
       "</thead>\n",
       "<tbody>\n",
       "\t<tr><td>METABRIC</td><td>10.000000</td><td>0</td><td>-0.96191276</td><td>-0.6387181</td><td> 0.9895475</td><td>-0.9627129</td><td>-2.1999668</td><td>0.2327361</td><td> 0.3861117</td><td> 0.2304193</td><td> 0.32011566</td><td> 0.04182810</td><td>-0.2097966</td><td>-1.5597079</td><td> 0.4856915</td><td> 0.7986725</td><td> 0.1817340</td><td>-0.5786585</td><td> 0.42905840</td></tr>\n",
       "\t<tr><td>METABRIC</td><td> 8.436111</td><td>0</td><td> 0.07474009</td><td>-1.8065609</td><td>-0.3265120</td><td> 0.3448196</td><td>-1.1314446</td><td>1.1428240</td><td> 0.9982856</td><td> 0.5025724</td><td> 0.35740511</td><td>-0.50447804</td><td>-0.3310581</td><td>-0.2509069</td><td>-0.8877473</td><td>-2.4506967</td><td> 1.3981037</td><td>-0.4284744</td><td> 1.60696458</td></tr>\n",
       "\t<tr><td>METABRIC</td><td> 8.547222</td><td>0</td><td>-0.33780567</td><td>-0.3414163</td><td>-1.2184269</td><td> 1.1358373</td><td>-2.0181939</td><td>0.2566022</td><td>-0.6897213</td><td>-0.7878149</td><td> 0.03616281</td><td> 0.42664790</td><td>-0.5882329</td><td>-0.2321952</td><td>-0.9601604</td><td>-1.0858200</td><td> 0.4241296</td><td>-0.6009477</td><td>-0.01219052</td></tr>\n",
       "\t<tr><td>METABRIC</td><td> 9.550000</td><td>0</td><td> 0.44974403</td><td> 0.4955736</td><td>-1.1034863</td><td> 0.5794090</td><td>-0.7627214</td><td>0.7689174</td><td> 1.1276506</td><td>-0.6456764</td><td>-1.67838988</td><td>-0.06753056</td><td> 0.1193351</td><td> 0.4559516</td><td> 0.1469346</td><td> 0.9110501</td><td>-0.6276686</td><td> 1.0841288</td><td>-0.36808435</td></tr>\n",
       "\t<tr><td>METABRIC</td><td> 7.177778</td><td>0</td><td>-0.17430498</td><td>-1.5742359</td><td> 0.6715751</td><td>-0.7440335</td><td>-0.1080593</td><td>0.4374500</td><td> 0.1674362</td><td> 0.6380339</td><td>-0.09106640</td><td> 1.44645719</td><td> 0.6242486</td><td> 1.1531171</td><td>-0.5534119</td><td> 0.8869530</td><td> 1.2616305</td><td>-0.0749494</td><td>-0.15209601</td></tr>\n",
       "</tbody>\n",
       "</table>\n"
      ],
      "text/latex": [
       "A tibble: 5 × 20\n",
       "\\begin{tabular}{llllllllllllllllllll}\n",
       " id & survival\\_time & event & RPS28 & PDE4DIP & CCNE2 & COL17A1 & HMG20B & CD69 & SPP1 & HBE1 & MFN2 & DCK & FOXI1 & COX11 & CYP26A1 & GADD45G & ABCD4 & SEMA3E & AQP3\\\\\n",
       " <fct> & <dbl> & <dbl> & <dbl> & <dbl> & <dbl> & <dbl> & <dbl> & <dbl> & <dbl> & <dbl> & <dbl> & <dbl> & <dbl> & <dbl> & <dbl> & <dbl> & <dbl> & <dbl> & <dbl>\\\\\n",
       "\\hline\n",
       "\t METABRIC & 10.000000 & 0 & -0.96191276 & -0.6387181 &  0.9895475 & -0.9627129 & -2.1999668 & 0.2327361 &  0.3861117 &  0.2304193 &  0.32011566 &  0.04182810 & -0.2097966 & -1.5597079 &  0.4856915 &  0.7986725 &  0.1817340 & -0.5786585 &  0.42905840\\\\\n",
       "\t METABRIC &  8.436111 & 0 &  0.07474009 & -1.8065609 & -0.3265120 &  0.3448196 & -1.1314446 & 1.1428240 &  0.9982856 &  0.5025724 &  0.35740511 & -0.50447804 & -0.3310581 & -0.2509069 & -0.8877473 & -2.4506967 &  1.3981037 & -0.4284744 &  1.60696458\\\\\n",
       "\t METABRIC &  8.547222 & 0 & -0.33780567 & -0.3414163 & -1.2184269 &  1.1358373 & -2.0181939 & 0.2566022 & -0.6897213 & -0.7878149 &  0.03616281 &  0.42664790 & -0.5882329 & -0.2321952 & -0.9601604 & -1.0858200 &  0.4241296 & -0.6009477 & -0.01219052\\\\\n",
       "\t METABRIC &  9.550000 & 0 &  0.44974403 &  0.4955736 & -1.1034863 &  0.5794090 & -0.7627214 & 0.7689174 &  1.1276506 & -0.6456764 & -1.67838988 & -0.06753056 &  0.1193351 &  0.4559516 &  0.1469346 &  0.9110501 & -0.6276686 &  1.0841288 & -0.36808435\\\\\n",
       "\t METABRIC &  7.177778 & 0 & -0.17430498 & -1.5742359 &  0.6715751 & -0.7440335 & -0.1080593 & 0.4374500 &  0.1674362 &  0.6380339 & -0.09106640 &  1.44645719 &  0.6242486 &  1.1531171 & -0.5534119 &  0.8869530 &  1.2616305 & -0.0749494 & -0.15209601\\\\\n",
       "\\end{tabular}\n"
      ],
      "text/markdown": [
       "\n",
       "A tibble: 5 × 20\n",
       "\n",
       "| id &lt;fct&gt; | survival_time &lt;dbl&gt; | event &lt;dbl&gt; | RPS28 &lt;dbl&gt; | PDE4DIP &lt;dbl&gt; | CCNE2 &lt;dbl&gt; | COL17A1 &lt;dbl&gt; | HMG20B &lt;dbl&gt; | CD69 &lt;dbl&gt; | SPP1 &lt;dbl&gt; | HBE1 &lt;dbl&gt; | MFN2 &lt;dbl&gt; | DCK &lt;dbl&gt; | FOXI1 &lt;dbl&gt; | COX11 &lt;dbl&gt; | CYP26A1 &lt;dbl&gt; | GADD45G &lt;dbl&gt; | ABCD4 &lt;dbl&gt; | SEMA3E &lt;dbl&gt; | AQP3 &lt;dbl&gt; |\n",
       "|---|---|---|---|---|---|---|---|---|---|---|---|---|---|---|---|---|---|---|---|\n",
       "| METABRIC | 10.000000 | 0 | -0.96191276 | -0.6387181 |  0.9895475 | -0.9627129 | -2.1999668 | 0.2327361 |  0.3861117 |  0.2304193 |  0.32011566 |  0.04182810 | -0.2097966 | -1.5597079 |  0.4856915 |  0.7986725 |  0.1817340 | -0.5786585 |  0.42905840 |\n",
       "| METABRIC |  8.436111 | 0 |  0.07474009 | -1.8065609 | -0.3265120 |  0.3448196 | -1.1314446 | 1.1428240 |  0.9982856 |  0.5025724 |  0.35740511 | -0.50447804 | -0.3310581 | -0.2509069 | -0.8877473 | -2.4506967 |  1.3981037 | -0.4284744 |  1.60696458 |\n",
       "| METABRIC |  8.547222 | 0 | -0.33780567 | -0.3414163 | -1.2184269 |  1.1358373 | -2.0181939 | 0.2566022 | -0.6897213 | -0.7878149 |  0.03616281 |  0.42664790 | -0.5882329 | -0.2321952 | -0.9601604 | -1.0858200 |  0.4241296 | -0.6009477 | -0.01219052 |\n",
       "| METABRIC |  9.550000 | 0 |  0.44974403 |  0.4955736 | -1.1034863 |  0.5794090 | -0.7627214 | 0.7689174 |  1.1276506 | -0.6456764 | -1.67838988 | -0.06753056 |  0.1193351 |  0.4559516 |  0.1469346 |  0.9110501 | -0.6276686 |  1.0841288 | -0.36808435 |\n",
       "| METABRIC |  7.177778 | 0 | -0.17430498 | -1.5742359 |  0.6715751 | -0.7440335 | -0.1080593 | 0.4374500 |  0.1674362 |  0.6380339 | -0.09106640 |  1.44645719 |  0.6242486 |  1.1531171 | -0.5534119 |  0.8869530 |  1.2616305 | -0.0749494 | -0.15209601 |\n",
       "\n"
      ],
      "text/plain": [
       "  id       survival_time event RPS28       PDE4DIP    CCNE2      COL17A1   \n",
       "1 METABRIC 10.000000     0     -0.96191276 -0.6387181  0.9895475 -0.9627129\n",
       "2 METABRIC  8.436111     0      0.07474009 -1.8065609 -0.3265120  0.3448196\n",
       "3 METABRIC  8.547222     0     -0.33780567 -0.3414163 -1.2184269  1.1358373\n",
       "4 METABRIC  9.550000     0      0.44974403  0.4955736 -1.1034863  0.5794090\n",
       "5 METABRIC  7.177778     0     -0.17430498 -1.5742359  0.6715751 -0.7440335\n",
       "  HMG20B     CD69      SPP1       HBE1       MFN2        DCK         FOXI1     \n",
       "1 -2.1999668 0.2327361  0.3861117  0.2304193  0.32011566  0.04182810 -0.2097966\n",
       "2 -1.1314446 1.1428240  0.9982856  0.5025724  0.35740511 -0.50447804 -0.3310581\n",
       "3 -2.0181939 0.2566022 -0.6897213 -0.7878149  0.03616281  0.42664790 -0.5882329\n",
       "4 -0.7627214 0.7689174  1.1276506 -0.6456764 -1.67838988 -0.06753056  0.1193351\n",
       "5 -0.1080593 0.4374500  0.1674362  0.6380339 -0.09106640  1.44645719  0.6242486\n",
       "  COX11      CYP26A1    GADD45G    ABCD4      SEMA3E     AQP3       \n",
       "1 -1.5597079  0.4856915  0.7986725  0.1817340 -0.5786585  0.42905840\n",
       "2 -0.2509069 -0.8877473 -2.4506967  1.3981037 -0.4284744  1.60696458\n",
       "3 -0.2321952 -0.9601604 -1.0858200  0.4241296 -0.6009477 -0.01219052\n",
       "4  0.4559516  0.1469346  0.9110501 -0.6276686  1.0841288 -0.36808435\n",
       "5  1.1531171 -0.5534119  0.8869530  1.2616305 -0.0749494 -0.15209601"
      ]
     },
     "metadata": {},
     "output_type": "display_data"
    }
   ],
   "source": [
    "df_merged[1:5,1:20]"
   ]
  },
  {
   "cell_type": "code",
   "execution_count": 143,
   "metadata": {},
   "outputs": [],
   "source": [
    "#df_merged[1:5,1:20]"
   ]
  },
  {
   "cell_type": "code",
   "execution_count": 153,
   "metadata": {},
   "outputs": [],
   "source": [
    "#df_merged = df_merged %>%\n",
    "#        mutate(across(c(4:dim(df_merged)[2]), zscore))"
   ]
  },
  {
   "cell_type": "code",
   "execution_count": 154,
   "metadata": {},
   "outputs": [
    {
     "data": {
      "text/plain": [
       "\n",
       "   0    1 \n",
       "2163  386 "
      ]
     },
     "metadata": {},
     "output_type": "display_data"
    }
   ],
   "source": [
    "table(df_merged$event)"
   ]
  },
  {
   "cell_type": "code",
   "execution_count": 155,
   "metadata": {},
   "outputs": [
    {
     "data": {
      "text/html": [
       "0.178455848358761"
      ],
      "text/latex": [
       "0.178455848358761"
      ],
      "text/markdown": [
       "0.178455848358761"
      ],
      "text/plain": [
       "[1] 0.1784558"
      ]
     },
     "metadata": {},
     "output_type": "display_data"
    },
    {
     "data": {
      "text/html": [
       "0.151431934091801"
      ],
      "text/latex": [
       "0.151431934091801"
      ],
      "text/markdown": [
       "0.151431934091801"
      ],
      "text/plain": [
       "[1] 0.1514319"
      ]
     },
     "metadata": {},
     "output_type": "display_data"
    }
   ],
   "source": [
    "386./2163\n",
    "386./(386+2163)"
   ]
  },
  {
   "cell_type": "markdown",
   "metadata": {},
   "source": [
    "## Modelling"
   ]
  },
  {
   "cell_type": "code",
   "execution_count": 16,
   "metadata": {},
   "outputs": [],
   "source": [
    "sample_signature = function(df, size = 20){\n",
    "    if(!is.data.frame(df)) stop(\"df must be data frame!\")\n",
    "    i = 4\n",
    "    e = dim(df)[2]\n",
    "    indxs = sample_ints(i, e, size)\n",
    "    genes = c(\"id\", names(df)[indxs])\n",
    "    list(indxs = indxs, genes = genes, cols4cox = c(\"survival_time\", \"event\", genes))\n",
    "}\n",
    "\n",
    "replace_nas = function(m){\n",
    "    m %>% mutate_all(~replace(., is.nan(.), 1))\n",
    "}\n",
    "\n",
    "#export\n",
    "sample_list_of_signatures = function(df, n = 100, size = 10){\n",
    "    l = vector(\"list\", n)\n",
    "    for (i in 1:n){\n",
    "        signature = sample_signature(df, size = size)\n",
    "        tmp = df[, signature$cols4cox]\n",
    "        #colnames(tmp) = c(\"survival_time\", \"event\", paste0(\"G\", 1:(dim(tmp)[2]-2)))\n",
    "        l[[i]] = replace_nas(tmp)\n",
    "    }\n",
    "    l\n",
    "}\n",
    "\n",
    "get_cindex = function(data){\n",
    "    cindex = resample(\"surv.coxph\", \n",
    "                  makeSurvTask(data = data, target = c(\"survival_time\", \"event\")), \n",
    "                  makeResampleDesc(method=\"CV\", iters=5, stratify=TRUE), \n",
    "                  models=TRUE, \n",
    "                  show.info = F)[[6]][[1]]\n",
    "cindex\n",
    "}\n",
    "\n",
    "downsample_df = function(df){\n",
    "  df_event = df[df$event==1,]\n",
    "  n = 2*nrow(df_event)\n",
    "  df_control = df[sample(nrow(df), n), ]\n",
    "  rbind(df_event, df_control)\n",
    "}\n"
   ]
  },
  {
   "cell_type": "code",
   "execution_count": 17,
   "metadata": {},
   "outputs": [
    {
     "data": {
      "text/html": [
       "1510"
      ],
      "text/latex": [
       "1510"
      ],
      "text/markdown": [
       "1510"
      ],
      "text/plain": [
       "[1] 1510"
      ]
     },
     "metadata": {},
     "output_type": "display_data"
    }
   ],
   "source": [
    "as.integer(15.1*100)"
   ]
  },
  {
   "cell_type": "code",
   "execution_count": 18,
   "metadata": {},
   "outputs": [],
   "source": [
    "downsample_df = function(df, nsubjects){\n",
    "  nevents = as.integer(0.15*nsubjects)\n",
    "  ncontrols = nsubjects-nevents\n",
    "  df_event =   df[df$event==1,]\n",
    "  df_control = df[df$event==0,]\n",
    "  df_event = sample_n(df_event, nevents)\n",
    "  df_control = sample_n(df_control, ncontrols)  \n",
    "  rbind(df_event, df_control)\n",
    "}"
   ]
  },
  {
   "cell_type": "code",
   "execution_count": 301,
   "metadata": {},
   "outputs": [
    {
     "data": {
      "text/html": [
       "<style>\n",
       ".list-inline {list-style: none; margin:0; padding: 0}\n",
       ".list-inline>li {display: inline-block}\n",
       ".list-inline>li:not(:last-child)::after {content: \"\\00b7\"; padding: 0 .5ex}\n",
       "</style>\n",
       "<ol class=list-inline><li>2549</li><li>3969</li></ol>\n"
      ],
      "text/latex": [
       "\\begin{enumerate*}\n",
       "\\item 2549\n",
       "\\item 3969\n",
       "\\end{enumerate*}\n"
      ],
      "text/markdown": [
       "1. 2549\n",
       "2. 3969\n",
       "\n",
       "\n"
      ],
      "text/plain": [
       "[1] 2549 3969"
      ]
     },
     "metadata": {},
     "output_type": "display_data"
    }
   ],
   "source": [
    "dim(df_merged)"
   ]
  },
  {
   "cell_type": "code",
   "execution_count": 73,
   "metadata": {},
   "outputs": [],
   "source": [
    "saveRDS(object = df_merged,  file = \"../data/df_merged.rds\")"
   ]
  },
  {
   "cell_type": "code",
   "execution_count": 307,
   "metadata": {},
   "outputs": [
    {
     "data": {
      "text/html": [
       "<style>\n",
       ".list-inline {list-style: none; margin:0; padding: 0}\n",
       ".list-inline>li {display: inline-block}\n",
       ".list-inline>li:not(:last-child)::after {content: \"\\00b7\"; padding: 0 .5ex}\n",
       "</style>\n",
       "<ol class=list-inline><li>1000</li><li>3969</li></ol>\n"
      ],
      "text/latex": [
       "\\begin{enumerate*}\n",
       "\\item 1000\n",
       "\\item 3969\n",
       "\\end{enumerate*}\n"
      ],
      "text/markdown": [
       "1. 1000\n",
       "2. 3969\n",
       "\n",
       "\n"
      ],
      "text/plain": [
       "[1] 1000 3969"
      ]
     },
     "metadata": {},
     "output_type": "display_data"
    },
    {
     "data": {
      "text/plain": [
       "\n",
       "  0   1 \n",
       "850 150 "
      ]
     },
     "metadata": {},
     "output_type": "display_data"
    }
   ],
   "source": [
    "df = downsample_df(df_merged, 1000)\n",
    "dim(df)\n",
    "table(df$event)"
   ]
  },
  {
   "cell_type": "code",
   "execution_count": 269,
   "metadata": {},
   "outputs": [
    {
     "data": {
      "text/html": [
       "<dl>\n",
       "\t<dt>$indxs</dt>\n",
       "\t\t<dd><style>\n",
       ".list-inline {list-style: none; margin:0; padding: 0}\n",
       ".list-inline>li {display: inline-block}\n",
       ".list-inline>li:not(:last-child)::after {content: \"\\00b7\"; padding: 0 .5ex}\n",
       "</style>\n",
       "<ol class=list-inline><li>1299</li><li>2625</li><li>2027</li><li>3551</li><li>2501</li><li>3328</li><li>1507</li><li>2833</li><li>3225</li><li>471</li><li>2460</li><li>1056</li><li>976</li><li>2764</li><li>2278</li><li>2509</li><li>2409</li><li>3357</li><li>1897</li><li>2339</li></ol>\n",
       "</dd>\n",
       "\t<dt>$genes</dt>\n",
       "\t\t<dd><style>\n",
       ".list-inline {list-style: none; margin:0; padding: 0}\n",
       ".list-inline>li {display: inline-block}\n",
       ".list-inline>li:not(:last-child)::after {content: \"\\00b7\"; padding: 0 .5ex}\n",
       "</style>\n",
       "<ol class=list-inline><li>'id'</li><li>'BCAT2'</li><li>'PLSCR4'</li><li>'OLIG2'</li><li>'LHX2'</li><li>'WNT8B'</li><li>'DPYD'</li><li>'GPR12'</li><li>'SERPINB7'</li><li>'PDLIM1'</li><li>'MB'</li><li>'PPP1R11'</li><li>'PLXNB3'</li><li>'SOX13'</li><li>'MFNG'</li><li>'PIPOX'</li><li>'USP20'</li><li>'TCF15'</li><li>'NCF2'</li><li>'CTNNAL1'</li><li>'MSC'</li></ol>\n",
       "</dd>\n",
       "\t<dt>$cols4cox</dt>\n",
       "\t\t<dd><style>\n",
       ".list-inline {list-style: none; margin:0; padding: 0}\n",
       ".list-inline>li {display: inline-block}\n",
       ".list-inline>li:not(:last-child)::after {content: \"\\00b7\"; padding: 0 .5ex}\n",
       "</style>\n",
       "<ol class=list-inline><li>'survival_time'</li><li>'event'</li><li>'id'</li><li>'BCAT2'</li><li>'PLSCR4'</li><li>'OLIG2'</li><li>'LHX2'</li><li>'WNT8B'</li><li>'DPYD'</li><li>'GPR12'</li><li>'SERPINB7'</li><li>'PDLIM1'</li><li>'MB'</li><li>'PPP1R11'</li><li>'PLXNB3'</li><li>'SOX13'</li><li>'MFNG'</li><li>'PIPOX'</li><li>'USP20'</li><li>'TCF15'</li><li>'NCF2'</li><li>'CTNNAL1'</li><li>'MSC'</li></ol>\n",
       "</dd>\n",
       "</dl>\n"
      ],
      "text/latex": [
       "\\begin{description}\n",
       "\\item[\\$indxs] \\begin{enumerate*}\n",
       "\\item 1299\n",
       "\\item 2625\n",
       "\\item 2027\n",
       "\\item 3551\n",
       "\\item 2501\n",
       "\\item 3328\n",
       "\\item 1507\n",
       "\\item 2833\n",
       "\\item 3225\n",
       "\\item 471\n",
       "\\item 2460\n",
       "\\item 1056\n",
       "\\item 976\n",
       "\\item 2764\n",
       "\\item 2278\n",
       "\\item 2509\n",
       "\\item 2409\n",
       "\\item 3357\n",
       "\\item 1897\n",
       "\\item 2339\n",
       "\\end{enumerate*}\n",
       "\n",
       "\\item[\\$genes] \\begin{enumerate*}\n",
       "\\item 'id'\n",
       "\\item 'BCAT2'\n",
       "\\item 'PLSCR4'\n",
       "\\item 'OLIG2'\n",
       "\\item 'LHX2'\n",
       "\\item 'WNT8B'\n",
       "\\item 'DPYD'\n",
       "\\item 'GPR12'\n",
       "\\item 'SERPINB7'\n",
       "\\item 'PDLIM1'\n",
       "\\item 'MB'\n",
       "\\item 'PPP1R11'\n",
       "\\item 'PLXNB3'\n",
       "\\item 'SOX13'\n",
       "\\item 'MFNG'\n",
       "\\item 'PIPOX'\n",
       "\\item 'USP20'\n",
       "\\item 'TCF15'\n",
       "\\item 'NCF2'\n",
       "\\item 'CTNNAL1'\n",
       "\\item 'MSC'\n",
       "\\end{enumerate*}\n",
       "\n",
       "\\item[\\$cols4cox] \\begin{enumerate*}\n",
       "\\item 'survival\\_time'\n",
       "\\item 'event'\n",
       "\\item 'id'\n",
       "\\item 'BCAT2'\n",
       "\\item 'PLSCR4'\n",
       "\\item 'OLIG2'\n",
       "\\item 'LHX2'\n",
       "\\item 'WNT8B'\n",
       "\\item 'DPYD'\n",
       "\\item 'GPR12'\n",
       "\\item 'SERPINB7'\n",
       "\\item 'PDLIM1'\n",
       "\\item 'MB'\n",
       "\\item 'PPP1R11'\n",
       "\\item 'PLXNB3'\n",
       "\\item 'SOX13'\n",
       "\\item 'MFNG'\n",
       "\\item 'PIPOX'\n",
       "\\item 'USP20'\n",
       "\\item 'TCF15'\n",
       "\\item 'NCF2'\n",
       "\\item 'CTNNAL1'\n",
       "\\item 'MSC'\n",
       "\\end{enumerate*}\n",
       "\n",
       "\\end{description}\n"
      ],
      "text/markdown": [
       "$indxs\n",
       ":   1. 1299\n",
       "2. 2625\n",
       "3. 2027\n",
       "4. 3551\n",
       "5. 2501\n",
       "6. 3328\n",
       "7. 1507\n",
       "8. 2833\n",
       "9. 3225\n",
       "10. 471\n",
       "11. 2460\n",
       "12. 1056\n",
       "13. 976\n",
       "14. 2764\n",
       "15. 2278\n",
       "16. 2509\n",
       "17. 2409\n",
       "18. 3357\n",
       "19. 1897\n",
       "20. 2339\n",
       "\n",
       "\n",
       "\n",
       "$genes\n",
       ":   1. 'id'\n",
       "2. 'BCAT2'\n",
       "3. 'PLSCR4'\n",
       "4. 'OLIG2'\n",
       "5. 'LHX2'\n",
       "6. 'WNT8B'\n",
       "7. 'DPYD'\n",
       "8. 'GPR12'\n",
       "9. 'SERPINB7'\n",
       "10. 'PDLIM1'\n",
       "11. 'MB'\n",
       "12. 'PPP1R11'\n",
       "13. 'PLXNB3'\n",
       "14. 'SOX13'\n",
       "15. 'MFNG'\n",
       "16. 'PIPOX'\n",
       "17. 'USP20'\n",
       "18. 'TCF15'\n",
       "19. 'NCF2'\n",
       "20. 'CTNNAL1'\n",
       "21. 'MSC'\n",
       "\n",
       "\n",
       "\n",
       "$cols4cox\n",
       ":   1. 'survival_time'\n",
       "2. 'event'\n",
       "3. 'id'\n",
       "4. 'BCAT2'\n",
       "5. 'PLSCR4'\n",
       "6. 'OLIG2'\n",
       "7. 'LHX2'\n",
       "8. 'WNT8B'\n",
       "9. 'DPYD'\n",
       "10. 'GPR12'\n",
       "11. 'SERPINB7'\n",
       "12. 'PDLIM1'\n",
       "13. 'MB'\n",
       "14. 'PPP1R11'\n",
       "15. 'PLXNB3'\n",
       "16. 'SOX13'\n",
       "17. 'MFNG'\n",
       "18. 'PIPOX'\n",
       "19. 'USP20'\n",
       "20. 'TCF15'\n",
       "21. 'NCF2'\n",
       "22. 'CTNNAL1'\n",
       "23. 'MSC'\n",
       "\n",
       "\n",
       "\n",
       "\n",
       "\n"
      ],
      "text/plain": [
       "$indxs\n",
       " [1] 1299 2625 2027 3551 2501 3328 1507 2833 3225  471 2460 1056  976 2764 2278\n",
       "[16] 2509 2409 3357 1897 2339\n",
       "\n",
       "$genes\n",
       " [1] \"id\"       \"BCAT2\"    \"PLSCR4\"   \"OLIG2\"    \"LHX2\"     \"WNT8B\"   \n",
       " [7] \"DPYD\"     \"GPR12\"    \"SERPINB7\" \"PDLIM1\"   \"MB\"       \"PPP1R11\" \n",
       "[13] \"PLXNB3\"   \"SOX13\"    \"MFNG\"     \"PIPOX\"    \"USP20\"    \"TCF15\"   \n",
       "[19] \"NCF2\"     \"CTNNAL1\"  \"MSC\"     \n",
       "\n",
       "$cols4cox\n",
       " [1] \"survival_time\" \"event\"         \"id\"            \"BCAT2\"        \n",
       " [5] \"PLSCR4\"        \"OLIG2\"         \"LHX2\"          \"WNT8B\"        \n",
       " [9] \"DPYD\"          \"GPR12\"         \"SERPINB7\"      \"PDLIM1\"       \n",
       "[13] \"MB\"            \"PPP1R11\"       \"PLXNB3\"        \"SOX13\"        \n",
       "[17] \"MFNG\"          \"PIPOX\"         \"USP20\"         \"TCF15\"        \n",
       "[21] \"NCF2\"          \"CTNNAL1\"       \"MSC\"          \n"
      ]
     },
     "metadata": {},
     "output_type": "display_data"
    }
   ],
   "source": [
    "head(df)"
   ]
  },
  {
   "cell_type": "code",
   "execution_count": 160,
   "metadata": {},
   "outputs": [],
   "source": [
    "rs = sample_list_of_signatures(df_merged, n = 10, size = 20)"
   ]
  },
  {
   "cell_type": "code",
   "execution_count": 162,
   "metadata": {},
   "outputs": [
    {
     "data": {
      "text/html": [
       "<table class=\"dataframe\">\n",
       "<caption>A tibble: 6 × 22</caption>\n",
       "<thead>\n",
       "\t<tr><th scope=col>survival_time</th><th scope=col>event</th><th scope=col>PUM1</th><th scope=col>P4HB</th><th scope=col>DUSP5</th><th scope=col>BYSL</th><th scope=col>ECEL1</th><th scope=col>PTGER4</th><th scope=col>PPL</th><th scope=col>AKT1</th><th scope=col>⋯</th><th scope=col>NQO1</th><th scope=col>DDIT3</th><th scope=col>UCP3</th><th scope=col>PRKDC</th><th scope=col>FBXO11</th><th scope=col>ABCA2</th><th scope=col>PIN4</th><th scope=col>CDH18</th><th scope=col>HRAS</th><th scope=col>CDC25C</th></tr>\n",
       "\t<tr><th scope=col>&lt;dbl&gt;</th><th scope=col>&lt;dbl&gt;</th><th scope=col>&lt;dbl&gt;</th><th scope=col>&lt;dbl&gt;</th><th scope=col>&lt;dbl&gt;</th><th scope=col>&lt;dbl&gt;</th><th scope=col>&lt;dbl&gt;</th><th scope=col>&lt;dbl&gt;</th><th scope=col>&lt;dbl&gt;</th><th scope=col>&lt;dbl&gt;</th><th scope=col>⋯</th><th scope=col>&lt;dbl&gt;</th><th scope=col>&lt;dbl&gt;</th><th scope=col>&lt;dbl&gt;</th><th scope=col>&lt;dbl&gt;</th><th scope=col>&lt;dbl&gt;</th><th scope=col>&lt;dbl&gt;</th><th scope=col>&lt;dbl&gt;</th><th scope=col>&lt;dbl&gt;</th><th scope=col>&lt;dbl&gt;</th><th scope=col>&lt;dbl&gt;</th></tr>\n",
       "</thead>\n",
       "<tbody>\n",
       "\t<tr><td>10.000000</td><td>0</td><td> 0.43310346</td><td>-1.38763861</td><td> 0.02405004</td><td> 0.99491486</td><td>-0.18385792</td><td> 0.06763846</td><td>-1.1729765</td><td>-0.7627287</td><td>⋯</td><td>-0.1772061</td><td>-0.10289780</td><td> 0.09904878</td><td> 0.2277177</td><td>-1.6718249</td><td>-0.45335579</td><td>-0.8423862</td><td>-0.2666576</td><td>-1.6873503</td><td> 0.02368672</td></tr>\n",
       "\t<tr><td> 8.436111</td><td>0</td><td> 0.88893054</td><td> 0.31545692</td><td> 1.13089149</td><td> 0.09318832</td><td>-0.60317622</td><td>-0.25251368</td><td> 2.2420691</td><td>-1.3745384</td><td>⋯</td><td> 0.1276363</td><td> 0.37803424</td><td>-1.47619428</td><td>-0.7007732</td><td> 0.1100236</td><td>-0.07078176</td><td>-1.0862711</td><td>-0.3914534</td><td>-0.8052475</td><td>-0.26981912</td></tr>\n",
       "\t<tr><td> 8.547222</td><td>0</td><td>-0.01719321</td><td> 0.02855575</td><td>-0.52252257</td><td>-1.24446267</td><td> 0.95946884</td><td> 0.88208256</td><td> 0.2205732</td><td>-0.6763414</td><td>⋯</td><td>-1.6055765</td><td> 0.50075672</td><td>-0.44328992</td><td>-1.3497776</td><td>-0.1825928</td><td> 0.22829614</td><td>-0.1731996</td><td>-0.4692066</td><td>-1.0339488</td><td>-1.52820328</td></tr>\n",
       "\t<tr><td> 9.550000</td><td>0</td><td> 0.43982895</td><td>-1.27377943</td><td>-0.91593493</td><td>-0.31238841</td><td> 0.30154499</td><td> 0.24235926</td><td> 0.4506965</td><td>-1.1981685</td><td>⋯</td><td> 0.3440527</td><td> 0.74042727</td><td> 0.34058866</td><td>-0.2696323</td><td>-1.2338238</td><td>-1.33678808</td><td>-0.4133153</td><td> 0.4270950</td><td>-0.2745989</td><td>-1.71210107</td></tr>\n",
       "\t<tr><td> 7.177778</td><td>0</td><td> 0.41478036</td><td> 0.81722792</td><td>-0.28823057</td><td> 0.86449855</td><td> 0.04536559</td><td> 0.02674907</td><td> 1.4884139</td><td>-0.8423929</td><td>⋯</td><td> 0.3396173</td><td>-0.01038268</td><td>-0.54622548</td><td> 0.4163745</td><td>-1.1114955</td><td>-0.54105174</td><td> 1.4447749</td><td>-0.1682424</td><td>-0.1842136</td><td>-0.04396248</td></tr>\n",
       "\t<tr><td>10.000000</td><td>0</td><td> 0.14786458</td><td>-0.06479660</td><td>-0.49684341</td><td>-0.64991353</td><td>-0.37026046</td><td>-0.55105100</td><td>-0.5340962</td><td>-0.3769624</td><td>⋯</td><td>-0.1403383</td><td>-0.90316706</td><td>-0.24479021</td><td>-1.0123479</td><td> 0.3773323</td><td>-0.88453258</td><td>-0.4285213</td><td> 3.1906914</td><td>-1.2012102</td><td>-0.92161041</td></tr>\n",
       "</tbody>\n",
       "</table>\n"
      ],
      "text/latex": [
       "A tibble: 6 × 22\n",
       "\\begin{tabular}{lllllllllllllllllllll}\n",
       " survival\\_time & event & PUM1 & P4HB & DUSP5 & BYSL & ECEL1 & PTGER4 & PPL & AKT1 & ⋯ & NQO1 & DDIT3 & UCP3 & PRKDC & FBXO11 & ABCA2 & PIN4 & CDH18 & HRAS & CDC25C\\\\\n",
       " <dbl> & <dbl> & <dbl> & <dbl> & <dbl> & <dbl> & <dbl> & <dbl> & <dbl> & <dbl> & ⋯ & <dbl> & <dbl> & <dbl> & <dbl> & <dbl> & <dbl> & <dbl> & <dbl> & <dbl> & <dbl>\\\\\n",
       "\\hline\n",
       "\t 10.000000 & 0 &  0.43310346 & -1.38763861 &  0.02405004 &  0.99491486 & -0.18385792 &  0.06763846 & -1.1729765 & -0.7627287 & ⋯ & -0.1772061 & -0.10289780 &  0.09904878 &  0.2277177 & -1.6718249 & -0.45335579 & -0.8423862 & -0.2666576 & -1.6873503 &  0.02368672\\\\\n",
       "\t  8.436111 & 0 &  0.88893054 &  0.31545692 &  1.13089149 &  0.09318832 & -0.60317622 & -0.25251368 &  2.2420691 & -1.3745384 & ⋯ &  0.1276363 &  0.37803424 & -1.47619428 & -0.7007732 &  0.1100236 & -0.07078176 & -1.0862711 & -0.3914534 & -0.8052475 & -0.26981912\\\\\n",
       "\t  8.547222 & 0 & -0.01719321 &  0.02855575 & -0.52252257 & -1.24446267 &  0.95946884 &  0.88208256 &  0.2205732 & -0.6763414 & ⋯ & -1.6055765 &  0.50075672 & -0.44328992 & -1.3497776 & -0.1825928 &  0.22829614 & -0.1731996 & -0.4692066 & -1.0339488 & -1.52820328\\\\\n",
       "\t  9.550000 & 0 &  0.43982895 & -1.27377943 & -0.91593493 & -0.31238841 &  0.30154499 &  0.24235926 &  0.4506965 & -1.1981685 & ⋯ &  0.3440527 &  0.74042727 &  0.34058866 & -0.2696323 & -1.2338238 & -1.33678808 & -0.4133153 &  0.4270950 & -0.2745989 & -1.71210107\\\\\n",
       "\t  7.177778 & 0 &  0.41478036 &  0.81722792 & -0.28823057 &  0.86449855 &  0.04536559 &  0.02674907 &  1.4884139 & -0.8423929 & ⋯ &  0.3396173 & -0.01038268 & -0.54622548 &  0.4163745 & -1.1114955 & -0.54105174 &  1.4447749 & -0.1682424 & -0.1842136 & -0.04396248\\\\\n",
       "\t 10.000000 & 0 &  0.14786458 & -0.06479660 & -0.49684341 & -0.64991353 & -0.37026046 & -0.55105100 & -0.5340962 & -0.3769624 & ⋯ & -0.1403383 & -0.90316706 & -0.24479021 & -1.0123479 &  0.3773323 & -0.88453258 & -0.4285213 &  3.1906914 & -1.2012102 & -0.92161041\\\\\n",
       "\\end{tabular}\n"
      ],
      "text/markdown": [
       "\n",
       "A tibble: 6 × 22\n",
       "\n",
       "| survival_time &lt;dbl&gt; | event &lt;dbl&gt; | PUM1 &lt;dbl&gt; | P4HB &lt;dbl&gt; | DUSP5 &lt;dbl&gt; | BYSL &lt;dbl&gt; | ECEL1 &lt;dbl&gt; | PTGER4 &lt;dbl&gt; | PPL &lt;dbl&gt; | AKT1 &lt;dbl&gt; | ⋯ ⋯ | NQO1 &lt;dbl&gt; | DDIT3 &lt;dbl&gt; | UCP3 &lt;dbl&gt; | PRKDC &lt;dbl&gt; | FBXO11 &lt;dbl&gt; | ABCA2 &lt;dbl&gt; | PIN4 &lt;dbl&gt; | CDH18 &lt;dbl&gt; | HRAS &lt;dbl&gt; | CDC25C &lt;dbl&gt; |\n",
       "|---|---|---|---|---|---|---|---|---|---|---|---|---|---|---|---|---|---|---|---|---|\n",
       "| 10.000000 | 0 |  0.43310346 | -1.38763861 |  0.02405004 |  0.99491486 | -0.18385792 |  0.06763846 | -1.1729765 | -0.7627287 | ⋯ | -0.1772061 | -0.10289780 |  0.09904878 |  0.2277177 | -1.6718249 | -0.45335579 | -0.8423862 | -0.2666576 | -1.6873503 |  0.02368672 |\n",
       "|  8.436111 | 0 |  0.88893054 |  0.31545692 |  1.13089149 |  0.09318832 | -0.60317622 | -0.25251368 |  2.2420691 | -1.3745384 | ⋯ |  0.1276363 |  0.37803424 | -1.47619428 | -0.7007732 |  0.1100236 | -0.07078176 | -1.0862711 | -0.3914534 | -0.8052475 | -0.26981912 |\n",
       "|  8.547222 | 0 | -0.01719321 |  0.02855575 | -0.52252257 | -1.24446267 |  0.95946884 |  0.88208256 |  0.2205732 | -0.6763414 | ⋯ | -1.6055765 |  0.50075672 | -0.44328992 | -1.3497776 | -0.1825928 |  0.22829614 | -0.1731996 | -0.4692066 | -1.0339488 | -1.52820328 |\n",
       "|  9.550000 | 0 |  0.43982895 | -1.27377943 | -0.91593493 | -0.31238841 |  0.30154499 |  0.24235926 |  0.4506965 | -1.1981685 | ⋯ |  0.3440527 |  0.74042727 |  0.34058866 | -0.2696323 | -1.2338238 | -1.33678808 | -0.4133153 |  0.4270950 | -0.2745989 | -1.71210107 |\n",
       "|  7.177778 | 0 |  0.41478036 |  0.81722792 | -0.28823057 |  0.86449855 |  0.04536559 |  0.02674907 |  1.4884139 | -0.8423929 | ⋯ |  0.3396173 | -0.01038268 | -0.54622548 |  0.4163745 | -1.1114955 | -0.54105174 |  1.4447749 | -0.1682424 | -0.1842136 | -0.04396248 |\n",
       "| 10.000000 | 0 |  0.14786458 | -0.06479660 | -0.49684341 | -0.64991353 | -0.37026046 | -0.55105100 | -0.5340962 | -0.3769624 | ⋯ | -0.1403383 | -0.90316706 | -0.24479021 | -1.0123479 |  0.3773323 | -0.88453258 | -0.4285213 |  3.1906914 | -1.2012102 | -0.92161041 |\n",
       "\n"
      ],
      "text/plain": [
       "  survival_time event PUM1        P4HB        DUSP5       BYSL       \n",
       "1 10.000000     0      0.43310346 -1.38763861  0.02405004  0.99491486\n",
       "2  8.436111     0      0.88893054  0.31545692  1.13089149  0.09318832\n",
       "3  8.547222     0     -0.01719321  0.02855575 -0.52252257 -1.24446267\n",
       "4  9.550000     0      0.43982895 -1.27377943 -0.91593493 -0.31238841\n",
       "5  7.177778     0      0.41478036  0.81722792 -0.28823057  0.86449855\n",
       "6 10.000000     0      0.14786458 -0.06479660 -0.49684341 -0.64991353\n",
       "  ECEL1       PTGER4      PPL        AKT1       ⋯ NQO1       DDIT3      \n",
       "1 -0.18385792  0.06763846 -1.1729765 -0.7627287 ⋯ -0.1772061 -0.10289780\n",
       "2 -0.60317622 -0.25251368  2.2420691 -1.3745384 ⋯  0.1276363  0.37803424\n",
       "3  0.95946884  0.88208256  0.2205732 -0.6763414 ⋯ -1.6055765  0.50075672\n",
       "4  0.30154499  0.24235926  0.4506965 -1.1981685 ⋯  0.3440527  0.74042727\n",
       "5  0.04536559  0.02674907  1.4884139 -0.8423929 ⋯  0.3396173 -0.01038268\n",
       "6 -0.37026046 -0.55105100 -0.5340962 -0.3769624 ⋯ -0.1403383 -0.90316706\n",
       "  UCP3        PRKDC      FBXO11     ABCA2       PIN4       CDH18     \n",
       "1  0.09904878  0.2277177 -1.6718249 -0.45335579 -0.8423862 -0.2666576\n",
       "2 -1.47619428 -0.7007732  0.1100236 -0.07078176 -1.0862711 -0.3914534\n",
       "3 -0.44328992 -1.3497776 -0.1825928  0.22829614 -0.1731996 -0.4692066\n",
       "4  0.34058866 -0.2696323 -1.2338238 -1.33678808 -0.4133153  0.4270950\n",
       "5 -0.54622548  0.4163745 -1.1114955 -0.54105174  1.4447749 -0.1682424\n",
       "6 -0.24479021 -1.0123479  0.3773323 -0.88453258 -0.4285213  3.1906914\n",
       "  HRAS       CDC25C     \n",
       "1 -1.6873503  0.02368672\n",
       "2 -0.8052475 -0.26981912\n",
       "3 -1.0339488 -1.52820328\n",
       "4 -0.2745989 -1.71210107\n",
       "5 -0.1842136 -0.04396248\n",
       "6 -1.2012102 -0.92161041"
      ]
     },
     "metadata": {},
     "output_type": "display_data"
    }
   ],
   "source": [
    "head(rs[[1]])"
   ]
  },
  {
   "cell_type": "code",
   "execution_count": 260,
   "metadata": {},
   "outputs": [
    {
     "data": {
      "text/html": [
       "<table class=\"dataframe\">\n",
       "<caption>A tibble: 5 × 10</caption>\n",
       "<thead>\n",
       "\t<tr><th scope=col>id</th><th scope=col>survival_time</th><th scope=col>event</th><th scope=col>RPS28</th><th scope=col>PDE4DIP</th><th scope=col>CCNE2</th><th scope=col>COL17A1</th><th scope=col>HMG20B</th><th scope=col>CD69</th><th scope=col>SPP1</th></tr>\n",
       "\t<tr><th scope=col>&lt;chr&gt;</th><th scope=col>&lt;dbl&gt;</th><th scope=col>&lt;dbl&gt;</th><th scope=col>&lt;dbl&gt;</th><th scope=col>&lt;dbl&gt;</th><th scope=col>&lt;dbl&gt;</th><th scope=col>&lt;dbl&gt;</th><th scope=col>&lt;dbl&gt;</th><th scope=col>&lt;dbl&gt;</th><th scope=col>&lt;dbl&gt;</th></tr>\n",
       "</thead>\n",
       "<tbody>\n",
       "\t<tr><td>METABRIC</td><td>10.000000</td><td>0</td><td>-0.96191276</td><td>-0.6387181</td><td> 0.9895475</td><td>-0.9627129</td><td>-2.1999668</td><td>0.2327361</td><td> 0.3861117</td></tr>\n",
       "\t<tr><td>METABRIC</td><td> 8.436111</td><td>0</td><td> 0.07474009</td><td>-1.8065609</td><td>-0.3265120</td><td> 0.3448196</td><td>-1.1314446</td><td>1.1428240</td><td> 0.9982856</td></tr>\n",
       "\t<tr><td>METABRIC</td><td> 8.547222</td><td>0</td><td>-0.33780567</td><td>-0.3414163</td><td>-1.2184269</td><td> 1.1358373</td><td>-2.0181939</td><td>0.2566022</td><td>-0.6897213</td></tr>\n",
       "\t<tr><td>METABRIC</td><td> 9.550000</td><td>0</td><td> 0.44974403</td><td> 0.4955736</td><td>-1.1034863</td><td> 0.5794090</td><td>-0.7627214</td><td>0.7689174</td><td> 1.1276506</td></tr>\n",
       "\t<tr><td>METABRIC</td><td> 7.177778</td><td>0</td><td>-0.17430498</td><td>-1.5742359</td><td> 0.6715751</td><td>-0.7440335</td><td>-0.1080593</td><td>0.4374500</td><td> 0.1674362</td></tr>\n",
       "</tbody>\n",
       "</table>\n"
      ],
      "text/latex": [
       "A tibble: 5 × 10\n",
       "\\begin{tabular}{llllllllll}\n",
       " id & survival\\_time & event & RPS28 & PDE4DIP & CCNE2 & COL17A1 & HMG20B & CD69 & SPP1\\\\\n",
       " <chr> & <dbl> & <dbl> & <dbl> & <dbl> & <dbl> & <dbl> & <dbl> & <dbl> & <dbl>\\\\\n",
       "\\hline\n",
       "\t METABRIC & 10.000000 & 0 & -0.96191276 & -0.6387181 &  0.9895475 & -0.9627129 & -2.1999668 & 0.2327361 &  0.3861117\\\\\n",
       "\t METABRIC &  8.436111 & 0 &  0.07474009 & -1.8065609 & -0.3265120 &  0.3448196 & -1.1314446 & 1.1428240 &  0.9982856\\\\\n",
       "\t METABRIC &  8.547222 & 0 & -0.33780567 & -0.3414163 & -1.2184269 &  1.1358373 & -2.0181939 & 0.2566022 & -0.6897213\\\\\n",
       "\t METABRIC &  9.550000 & 0 &  0.44974403 &  0.4955736 & -1.1034863 &  0.5794090 & -0.7627214 & 0.7689174 &  1.1276506\\\\\n",
       "\t METABRIC &  7.177778 & 0 & -0.17430498 & -1.5742359 &  0.6715751 & -0.7440335 & -0.1080593 & 0.4374500 &  0.1674362\\\\\n",
       "\\end{tabular}\n"
      ],
      "text/markdown": [
       "\n",
       "A tibble: 5 × 10\n",
       "\n",
       "| id &lt;chr&gt; | survival_time &lt;dbl&gt; | event &lt;dbl&gt; | RPS28 &lt;dbl&gt; | PDE4DIP &lt;dbl&gt; | CCNE2 &lt;dbl&gt; | COL17A1 &lt;dbl&gt; | HMG20B &lt;dbl&gt; | CD69 &lt;dbl&gt; | SPP1 &lt;dbl&gt; |\n",
       "|---|---|---|---|---|---|---|---|---|---|\n",
       "| METABRIC | 10.000000 | 0 | -0.96191276 | -0.6387181 |  0.9895475 | -0.9627129 | -2.1999668 | 0.2327361 |  0.3861117 |\n",
       "| METABRIC |  8.436111 | 0 |  0.07474009 | -1.8065609 | -0.3265120 |  0.3448196 | -1.1314446 | 1.1428240 |  0.9982856 |\n",
       "| METABRIC |  8.547222 | 0 | -0.33780567 | -0.3414163 | -1.2184269 |  1.1358373 | -2.0181939 | 0.2566022 | -0.6897213 |\n",
       "| METABRIC |  9.550000 | 0 |  0.44974403 |  0.4955736 | -1.1034863 |  0.5794090 | -0.7627214 | 0.7689174 |  1.1276506 |\n",
       "| METABRIC |  7.177778 | 0 | -0.17430498 | -1.5742359 |  0.6715751 | -0.7440335 | -0.1080593 | 0.4374500 |  0.1674362 |\n",
       "\n"
      ],
      "text/plain": [
       "  id       survival_time event RPS28       PDE4DIP    CCNE2      COL17A1   \n",
       "1 METABRIC 10.000000     0     -0.96191276 -0.6387181  0.9895475 -0.9627129\n",
       "2 METABRIC  8.436111     0      0.07474009 -1.8065609 -0.3265120  0.3448196\n",
       "3 METABRIC  8.547222     0     -0.33780567 -0.3414163 -1.2184269  1.1358373\n",
       "4 METABRIC  9.550000     0      0.44974403  0.4955736 -1.1034863  0.5794090\n",
       "5 METABRIC  7.177778     0     -0.17430498 -1.5742359  0.6715751 -0.7440335\n",
       "  HMG20B     CD69      SPP1      \n",
       "1 -2.1999668 0.2327361  0.3861117\n",
       "2 -1.1314446 1.1428240  0.9982856\n",
       "3 -2.0181939 0.2566022 -0.6897213\n",
       "4 -0.7627214 0.7689174  1.1276506\n",
       "5 -0.1080593 0.4374500  0.1674362"
      ]
     },
     "metadata": {},
     "output_type": "display_data"
    }
   ],
   "source": [
    "df_merged[1:5,1:10]"
   ]
  },
  {
   "cell_type": "code",
   "execution_count": 18,
   "metadata": {},
   "outputs": [],
   "source": [
    "N = 25 # number of genes to sample\n",
    "μs = vector(\"list\", N)\n",
    "σs = vector(\"list\", N)\n",
    "cs = vector(\"list\", N)"
   ]
  },
  {
   "cell_type": "code",
   "execution_count": 19,
   "metadata": {},
   "outputs": [
    {
     "name": "stdout",
     "output_type": "stream",
     "text": [
      "[1] 2\n"
     ]
    },
    {
     "ename": "ERROR",
     "evalue": "Error in downsample_df(df_merged, (i * 100)): could not find function \"downsample_df\"\n",
     "output_type": "error",
     "traceback": [
      "Error in downsample_df(df_merged, (i * 100)): could not find function \"downsample_df\"\nTraceback:\n"
     ]
    }
   ],
   "source": [
    "for (i in 2:N){\n",
    "    print(i)\n",
    "    df = downsample_df(df_merged, (i*100))\n",
    "    rs = sample_list_of_signatures(df, n = 1000, size = 20)\n",
    "    cindices = unlist(map(rs, get_cindex))\n",
    "    cs[[i]] = cindices \n",
    "    μs[[i]] = median(cindices)\n",
    "    σs[[i]] = sd(cindices)  \n",
    "}"
   ]
  },
  {
   "cell_type": "code",
   "execution_count": 16,
   "metadata": {},
   "outputs": [
    {
     "ename": "ERROR",
     "evalue": "Error in eval(expr, envir, enclos): object 'cs' not found\n",
     "output_type": "error",
     "traceback": [
      "Error in eval(expr, envir, enclos): object 'cs' not found\nTraceback:\n"
     ]
    }
   ],
   "source": [
    "cs"
   ]
  },
  {
   "cell_type": "code",
   "execution_count": 15,
   "metadata": {},
   "outputs": [
    {
     "ename": "ERROR",
     "evalue": "Error in map(cs, median): object 'cs' not found\n",
     "output_type": "error",
     "traceback": [
      "Error in map(cs, median): object 'cs' not found\nTraceback:\n",
      "1. map(cs, median)"
     ]
    }
   ],
   "source": [
    "μs = map(cs, median)"
   ]
  },
  {
   "cell_type": "code",
   "execution_count": 65,
   "metadata": {},
   "outputs": [],
   "source": [
    "a = 8\n",
    "CIs = tibble(inds = ((a:25)*100), Mean = as.numeric(μs[a:25]), SD = as.numeric(σs[a:25]), Cindices = cindices[a:25])"
   ]
  },
  {
   "cell_type": "code",
   "execution_count": 66,
   "metadata": {},
   "outputs": [],
   "source": [
    "#saveRDS(object = CIs, file = \"../data/cindices_from_resampling_merged_data_1000times.rds\")"
   ]
  },
  {
   "cell_type": "markdown",
   "metadata": {},
   "source": [
    "## Results"
   ]
  },
  {
   "cell_type": "code",
   "execution_count": 7,
   "metadata": {},
   "outputs": [],
   "source": [
    "CIs = readRDS(\"../data/cindices_from_resampling_merged_data_1000times.rds\")"
   ]
  },
  {
   "cell_type": "code",
   "execution_count": 13,
   "metadata": {},
   "outputs": [
    {
     "data": {
      "text/html": [
       "<style>\n",
       ".list-inline {list-style: none; margin:0; padding: 0}\n",
       ".list-inline>li {display: inline-block}\n",
       ".list-inline>li:not(:last-child)::after {content: \"\\00b7\"; padding: 0 .5ex}\n",
       "</style>\n",
       "<ol class=list-inline><li>24</li><li>4</li></ol>\n"
      ],
      "text/latex": [
       "\\begin{enumerate*}\n",
       "\\item 24\n",
       "\\item 4\n",
       "\\end{enumerate*}\n"
      ],
      "text/markdown": [
       "1. 24\n",
       "2. 4\n",
       "\n",
       "\n"
      ],
      "text/plain": [
       "[1] 24  4"
      ]
     },
     "metadata": {},
     "output_type": "display_data"
    }
   ],
   "source": [
    "dim(CIs)"
   ]
  },
  {
   "cell_type": "code",
   "execution_count": 14,
   "metadata": {},
   "outputs": [
    {
     "data": {
      "text/html": [
       "<style>\n",
       ".list-inline {list-style: none; margin:0; padding: 0}\n",
       ".list-inline>li {display: inline-block}\n",
       ".list-inline>li:not(:last-child)::after {content: \"\\00b7\"; padding: 0 .5ex}\n",
       "</style>\n",
       "<ol class=list-inline><li>0.660061024795139</li><li>0.670610166525699</li><li>0.66676147126801</li><li>0.639942705994894</li><li>0.66723466935898</li><li>0.651647504881031</li><li>0.658433953425056</li><li>0.664057461646182</li><li>0.643548797031948</li><li>0.646103460643531</li><li>0.658467870936232</li><li>0.683157906447154</li><li>0.683737935700803</li><li>0.658929148660222</li><li>0.663273952762411</li><li>0.651377458238254</li><li>0.65336546941524</li><li>0.671370328076465</li><li>0.660011948215451</li><li>0.657115725827958</li><li>0.677693303396724</li><li>0.66149891406373</li><li>0.648266314678888</li><li>0.659066789474157</li></ol>\n"
      ],
      "text/latex": [
       "\\begin{enumerate*}\n",
       "\\item 0.660061024795139\n",
       "\\item 0.670610166525699\n",
       "\\item 0.66676147126801\n",
       "\\item 0.639942705994894\n",
       "\\item 0.66723466935898\n",
       "\\item 0.651647504881031\n",
       "\\item 0.658433953425056\n",
       "\\item 0.664057461646182\n",
       "\\item 0.643548797031948\n",
       "\\item 0.646103460643531\n",
       "\\item 0.658467870936232\n",
       "\\item 0.683157906447154\n",
       "\\item 0.683737935700803\n",
       "\\item 0.658929148660222\n",
       "\\item 0.663273952762411\n",
       "\\item 0.651377458238254\n",
       "\\item 0.65336546941524\n",
       "\\item 0.671370328076465\n",
       "\\item 0.660011948215451\n",
       "\\item 0.657115725827958\n",
       "\\item 0.677693303396724\n",
       "\\item 0.66149891406373\n",
       "\\item 0.648266314678888\n",
       "\\item 0.659066789474157\n",
       "\\end{enumerate*}\n"
      ],
      "text/markdown": [
       "1. 0.660061024795139\n",
       "2. 0.670610166525699\n",
       "3. 0.66676147126801\n",
       "4. 0.639942705994894\n",
       "5. 0.66723466935898\n",
       "6. 0.651647504881031\n",
       "7. 0.658433953425056\n",
       "8. 0.664057461646182\n",
       "9. 0.643548797031948\n",
       "10. 0.646103460643531\n",
       "11. 0.658467870936232\n",
       "12. 0.683157906447154\n",
       "13. 0.683737935700803\n",
       "14. 0.658929148660222\n",
       "15. 0.663273952762411\n",
       "16. 0.651377458238254\n",
       "17. 0.65336546941524\n",
       "18. 0.671370328076465\n",
       "19. 0.660011948215451\n",
       "20. 0.657115725827958\n",
       "21. 0.677693303396724\n",
       "22. 0.66149891406373\n",
       "23. 0.648266314678888\n",
       "24. 0.659066789474157\n",
       "\n",
       "\n"
      ],
      "text/plain": [
       " [1] 0.6600610 0.6706102 0.6667615 0.6399427 0.6672347 0.6516475 0.6584340\n",
       " [8] 0.6640575 0.6435488 0.6461035 0.6584679 0.6831579 0.6837379 0.6589291\n",
       "[15] 0.6632740 0.6513775 0.6533655 0.6713703 0.6600119 0.6571157 0.6776933\n",
       "[22] 0.6614989 0.6482663 0.6590668"
      ]
     },
     "metadata": {},
     "output_type": "display_data"
    }
   ],
   "source": [
    "CIs$Cindices"
   ]
  },
  {
   "cell_type": "code",
   "execution_count": 12,
   "metadata": {},
   "outputs": [
    {
     "data": {
      "text/html": [
       "<table class=\"dataframe\">\n",
       "<caption>A tibble: 6 × 4</caption>\n",
       "<thead>\n",
       "\t<tr><th scope=col>inds</th><th scope=col>Mean</th><th scope=col>SD</th><th scope=col>Cindices</th></tr>\n",
       "\t<tr><th scope=col>&lt;dbl&gt;</th><th scope=col>&lt;dbl&gt;</th><th scope=col>&lt;dbl&gt;</th><th scope=col>&lt;dbl&gt;</th></tr>\n",
       "</thead>\n",
       "<tbody>\n",
       "\t<tr><td>200</td><td>0.5429313</td><td>0.06498191</td><td>0.6600610</td></tr>\n",
       "\t<tr><td>300</td><td>0.6211850</td><td>0.03992523</td><td>0.6706102</td></tr>\n",
       "\t<tr><td>400</td><td>0.6511884</td><td>0.03680274</td><td>0.6667615</td></tr>\n",
       "\t<tr><td>500</td><td>0.5803630</td><td>0.04415151</td><td>0.6399427</td></tr>\n",
       "\t<tr><td>600</td><td>0.6142188</td><td>0.02883380</td><td>0.6672347</td></tr>\n",
       "\t<tr><td>700</td><td>0.6456288</td><td>0.02575981</td><td>0.6516475</td></tr>\n",
       "</tbody>\n",
       "</table>\n"
      ],
      "text/latex": [
       "A tibble: 6 × 4\n",
       "\\begin{tabular}{llll}\n",
       " inds & Mean & SD & Cindices\\\\\n",
       " <dbl> & <dbl> & <dbl> & <dbl>\\\\\n",
       "\\hline\n",
       "\t 200 & 0.5429313 & 0.06498191 & 0.6600610\\\\\n",
       "\t 300 & 0.6211850 & 0.03992523 & 0.6706102\\\\\n",
       "\t 400 & 0.6511884 & 0.03680274 & 0.6667615\\\\\n",
       "\t 500 & 0.5803630 & 0.04415151 & 0.6399427\\\\\n",
       "\t 600 & 0.6142188 & 0.02883380 & 0.6672347\\\\\n",
       "\t 700 & 0.6456288 & 0.02575981 & 0.6516475\\\\\n",
       "\\end{tabular}\n"
      ],
      "text/markdown": [
       "\n",
       "A tibble: 6 × 4\n",
       "\n",
       "| inds &lt;dbl&gt; | Mean &lt;dbl&gt; | SD &lt;dbl&gt; | Cindices &lt;dbl&gt; |\n",
       "|---|---|---|---|\n",
       "| 200 | 0.5429313 | 0.06498191 | 0.6600610 |\n",
       "| 300 | 0.6211850 | 0.03992523 | 0.6706102 |\n",
       "| 400 | 0.6511884 | 0.03680274 | 0.6667615 |\n",
       "| 500 | 0.5803630 | 0.04415151 | 0.6399427 |\n",
       "| 600 | 0.6142188 | 0.02883380 | 0.6672347 |\n",
       "| 700 | 0.6456288 | 0.02575981 | 0.6516475 |\n",
       "\n"
      ],
      "text/plain": [
       "  inds Mean      SD         Cindices \n",
       "1 200  0.5429313 0.06498191 0.6600610\n",
       "2 300  0.6211850 0.03992523 0.6706102\n",
       "3 400  0.6511884 0.03680274 0.6667615\n",
       "4 500  0.5803630 0.04415151 0.6399427\n",
       "5 600  0.6142188 0.02883380 0.6672347\n",
       "6 700  0.6456288 0.02575981 0.6516475"
      ]
     },
     "metadata": {},
     "output_type": "display_data"
    }
   ],
   "source": [
    "head(CIs)"
   ]
  },
  {
   "cell_type": "code",
   "execution_count": 8,
   "metadata": {},
   "outputs": [],
   "source": [
    "theme_set(theme_bw())"
   ]
  },
  {
   "cell_type": "code",
   "execution_count": 9,
   "metadata": {},
   "outputs": [],
   "source": [
    "#ggplot(CIs, aes(x=inds, y=Mean)) +\n",
    "#   # geom_line(size=0.1) +\n",
    "#    geom_point(shape=21, size=8) +\n",
    "#    geom_smooth(method = \"lm\", size=0.4)+\n",
    "#    xlab(\"Number of genes\") +\n",
    "#    ylab(\"Mean C-index\")+ stat_cor(method = \"pearson\", label.x = 10, label.y = 0.55)"
   ]
  },
  {
   "cell_type": "code",
   "execution_count": 10,
   "metadata": {},
   "outputs": [],
   "source": [
    "FONT = \"Helvetica\"\n",
    "FONTSIZE = 12"
   ]
  },
  {
   "cell_type": "code",
   "execution_count": 11,
   "metadata": {},
   "outputs": [
    {
     "data": {
      "image/png": "[encoded data removed]",
      "text/plain": [
       "plot without title"
      ]
     },
     "metadata": {
      "image/png": {
       "height": 600,
       "width": 840
      }
     },
     "output_type": "display_data"
    }
   ],
   "source": [
    "P = ggplot(CIs, aes(x=inds, y=Mean)) + \n",
    "   geom_point(color=rgb(0, 101, 165, maxColorValue=255), \n",
    "                 fill=rgb(205, 217, 235, maxColorValue=255),\n",
    "                 pch=21, \n",
    "                 size=3,\n",
    "                 stroke = 0.5\n",
    "                )+\n",
    "  #scale_x_continuous(trans='log10')+\n",
    "  stat_cor(method = \"pearson\", label.x.npc = \"middle\",label.y.npc = \"top\", size=3.5) +\n",
    "  geom_errorbar(aes(ymin=Mean-1.96*SD, ymax=Mean+1.96*SD), width=.4,\n",
    "                 position=position_dodge(1.9))+ \n",
    "  xlab(\"Number of subjects\")+\n",
    "  ylab(\"Median of the sample medians\")+\n",
    "#   expand_limits(y = c(0.5, 1.2))  \n",
    "  theme(\n",
    "      axis.text.x = element_text(family=FONT, size = 23/.pt),\n",
    "      axis.text.y = element_text(family=FONT, size = 23/.pt),\n",
    "      text=element_text(family=FONT,          size = 23/.pt))+\n",
    "  theme(strip.text.y = element_text(angle = 0))\n",
    "P"
   ]
  },
  {
   "cell_type": "code",
   "execution_count": 71,
   "metadata": {},
   "outputs": [],
   "source": [
    "path = \"../figures/\""
   ]
  },
  {
   "cell_type": "code",
   "execution_count": 72,
   "metadata": {},
   "outputs": [],
   "source": [
    "ggsave(filename = \"si_mom_merged_random.tiff\", path = path, width = 17.8, height = 17.8*(2/3), units = \"cm\", device='tiff', dpi=700)\n",
    "ggsave(filename = \"si_mom_merged_random.png\",  path = path, width = 17.8, height = 17.8*(2/3), units = \"cm\", device='png',  dpi=700)"
   ]
  },
  {
   "cell_type": "code",
   "execution_count": null,
   "metadata": {},
   "outputs": [],
   "source": []
  }
 ],
 "metadata": {
  "kernelspec": {
   "display_name": "R",
   "language": "R",
   "name": "ir"
  },
  "language_info": {
   "codemirror_mode": "r",
   "file_extension": ".r",
   "mimetype": "text/x-r-source",
   "name": "R",
   "pygments_lexer": "r",
   "version": "4.0.3"
  }
 },
 "nbformat": 4,
 "nbformat_minor": 4
}
